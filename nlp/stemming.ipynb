{
 "cells": [
  {
   "cell_type": "markdown",
   "id": "94bc4008",
   "metadata": {},
   "source": [
    "## Stemming\n",
    "\n",
    "Stemming is the process of reducing a word to its word stream that affixes to the suffixes and prefixes or to the roots of words known as a lemma. Stemming is important in natural language understanding(NLU) and natural language processing (NLP) "
   ]
  },
  {
   "cell_type": "code",
   "execution_count": 36,
   "id": "071104cc",
   "metadata": {},
   "outputs": [],
   "source": [
    "from nltk.stem import PorterStemmer\n",
    "from nltk.stem import SnowballStemmer\n",
    "from nltk.stem import RegexpStemmer"
   ]
  },
  {
   "cell_type": "code",
   "execution_count": 2,
   "id": "126eea80",
   "metadata": {},
   "outputs": [],
   "source": [
    "## eg : let consider we are solving the classification problem \n",
    "## problem : comments of products is a positive review or negative review\n",
    "## Reviews ----> eating , eaten,eat (but eat is the stem word)"
   ]
  },
  {
   "cell_type": "markdown",
   "id": "671eb1c9",
   "metadata": {},
   "source": [
    "It is very important because having lot of words with the same verb is diffcult , in the process of the vector \n",
    "So we use stemming and limitation as process to reduce word and word cleaning"
   ]
  },
  {
   "cell_type": "code",
   "execution_count": 3,
   "id": "03387df0",
   "metadata": {},
   "outputs": [],
   "source": [
    "words = [\"eating\",\"eaten\",\"eat\",\"writing\",\"writes\",\"programming\",\"programs\",\"history\",\"finally\",\"finalized\"]\n"
   ]
  },
  {
   "cell_type": "markdown",
   "id": "1bc3ed11",
   "metadata": {},
   "source": [
    "## PorterStemmer"
   ]
  },
  {
   "cell_type": "code",
   "execution_count": 4,
   "id": "3ddfedc8",
   "metadata": {},
   "outputs": [],
   "source": [
    "from nltk.stem import PorterStemmer\n"
   ]
  },
  {
   "cell_type": "code",
   "execution_count": 5,
   "id": "c5e85298",
   "metadata": {},
   "outputs": [],
   "source": [
    "stemming = PorterStemmer()"
   ]
  },
  {
   "cell_type": "code",
   "execution_count": 7,
   "id": "1778f97f",
   "metadata": {},
   "outputs": [
    {
     "name": "stdout",
     "output_type": "stream",
     "text": [
      "eating---->eat\n",
      "eaten---->eaten\n",
      "eat---->eat\n",
      "writing---->write\n",
      "writes---->write\n",
      "programming---->program\n",
      "programs---->program\n",
      "history---->histori\n",
      "finally---->final\n",
      "finalized---->final\n"
     ]
    }
   ],
   "source": [
    "for word in words:\n",
    "    print(word + \"---->\"+stemming.stem(word))"
   ]
  },
  {
   "cell_type": "markdown",
   "id": "ddcaaf86",
   "metadata": {},
   "source": [
    "In this stemming , not all the stem word is meaning full "
   ]
  },
  {
   "cell_type": "code",
   "execution_count": null,
   "id": "992cb429",
   "metadata": {},
   "outputs": [
    {
     "data": {
      "text/plain": [
       "'congratul'"
      ]
     },
     "execution_count": 8,
     "metadata": {},
     "output_type": "execute_result"
    }
   ],
   "source": [
    "## eg\n",
    "stemming.stem(\"congratulations\") ## see the word not give proper meaning that is the problem with stemming"
   ]
  },
  {
   "cell_type": "code",
   "execution_count": null,
   "id": "bf5cf586",
   "metadata": {},
   "outputs": [
    {
     "data": {
      "text/plain": [
       "'sit'"
      ]
     },
     "execution_count": 10,
     "metadata": {},
     "output_type": "execute_result"
    }
   ],
   "source": [
    "stemming.stem(\"sitting\")  ## see some stem word give correct meaning..."
   ]
  },
  {
   "cell_type": "markdown",
   "id": "dd6e3272",
   "metadata": {},
   "source": [
    "## RegexpStemmer class\n",
    "\n",
    "nltk has  RegexpStemmer class with the help of which we can easily implement Regular expression stemmer algorithm.\n",
    "It basically takes a single regular expression and remove any prefix or suffix that matches the expression."
   ]
  },
  {
   "cell_type": "code",
   "execution_count": 23,
   "id": "6a123135",
   "metadata": {},
   "outputs": [],
   "source": [
    "from nltk.stem import RegexpStemmer\n",
    "reg_stemmer = RegexpStemmer('ing$|s$|e$|able$', min=4)  ## the regex says that, the words ends with those regex was removed(only regex)"
   ]
  },
  {
   "cell_type": "code",
   "execution_count": 24,
   "id": "6f4b5e1d",
   "metadata": {},
   "outputs": [
    {
     "data": {
      "text/plain": [
       "'eat'"
      ]
     },
     "execution_count": 24,
     "metadata": {},
     "output_type": "execute_result"
    }
   ],
   "source": [
    "reg_stemmer.stem('eating')"
   ]
  },
  {
   "cell_type": "code",
   "execution_count": 25,
   "id": "c76e7876",
   "metadata": {},
   "outputs": [
    {
     "data": {
      "text/plain": [
       "'ingeat'"
      ]
     },
     "execution_count": 25,
     "metadata": {},
     "output_type": "execute_result"
    }
   ],
   "source": [
    "reg_stemmer.stem('ingeating')"
   ]
  },
  {
   "cell_type": "code",
   "execution_count": 26,
   "id": "b6e6294c",
   "metadata": {},
   "outputs": [
    {
     "data": {
      "text/plain": [
       "'eat'"
      ]
     },
     "execution_count": 26,
     "metadata": {},
     "output_type": "execute_result"
    }
   ],
   "source": [
    "reg_stemmerr = RegexpStemmer('ing|s$|e$|able$', min=4) ## if no $ symbole there , then it search in the whole string\n",
    "reg_stemmerr.stem(\"ingeating\")"
   ]
  },
  {
   "cell_type": "markdown",
   "id": "da7a278c",
   "metadata": {},
   "source": [
    "## Snowball stemmer\n"
   ]
  },
  {
   "cell_type": "code",
   "execution_count": 27,
   "id": "1d429999",
   "metadata": {},
   "outputs": [],
   "source": [
    "from nltk.stem import SnowballStemmer\n",
    "snow_stemmer = SnowballStemmer('english')"
   ]
  },
  {
   "cell_type": "code",
   "execution_count": 29,
   "id": "77602eb2",
   "metadata": {},
   "outputs": [
    {
     "name": "stdout",
     "output_type": "stream",
     "text": [
      "eating----->eat\n",
      "eaten----->eaten\n",
      "eat----->eat\n",
      "writing----->write\n",
      "writes----->write\n",
      "programming----->program\n",
      "programs----->program\n",
      "history----->histori\n",
      "finally----->final\n",
      "finalized----->final\n"
     ]
    }
   ],
   "source": [
    "for word in words:\n",
    "    print(word + \"----->\" + snow_stemmer.stem(word))"
   ]
  },
  {
   "cell_type": "code",
   "execution_count": null,
   "id": "add24ccf",
   "metadata": {},
   "outputs": [
    {
     "data": {
      "text/plain": [
       "('fairli', 'sportingli')"
      ]
     },
     "execution_count": 30,
     "metadata": {},
     "output_type": "execute_result"
    }
   ],
   "source": [
    "stemming.stem('fairly'),stemming.stem('sportingly')  ## this is with proter stemmer"
   ]
  },
  {
   "cell_type": "code",
   "execution_count": 32,
   "id": "0ec2eff5",
   "metadata": {},
   "outputs": [
    {
     "data": {
      "text/plain": [
       "('fair', 'sport')"
      ]
     },
     "execution_count": 32,
     "metadata": {},
     "output_type": "execute_result"
    }
   ],
   "source": [
    "snow_stemmer.stem('fairly'),snow_stemmer.stem('sportingly')  ## but in this snow ball stemmer we can get better answer,\n",
    "## although it give correct answer , both the proter and snow ball fail in the history"
   ]
  },
  {
   "cell_type": "code",
   "execution_count": 35,
   "id": "f3edb983",
   "metadata": {},
   "outputs": [
    {
     "data": {
      "text/plain": [
       "'go'"
      ]
     },
     "execution_count": 35,
     "metadata": {},
     "output_type": "execute_result"
    }
   ],
   "source": [
    "snow_stemmer.stem('going')"
   ]
  },
  {
   "cell_type": "code",
   "execution_count": 34,
   "id": "61df48ef",
   "metadata": {},
   "outputs": [
    {
     "data": {
      "text/plain": [
       "'goe'"
      ]
     },
     "execution_count": 34,
     "metadata": {},
     "output_type": "execute_result"
    }
   ],
   "source": [
    "snow_stemmer.stem('goes')"
   ]
  },
  {
   "cell_type": "markdown",
   "id": "077bd3e7",
   "metadata": {},
   "source": [
    "## Here we can see that for the some of the words the proterstemmer is working well and for some of the words the snow_ball stemmer working well, but it does not give good answers for all the words ---> to over come this disadvantages we use the lemmatization technique"
   ]
  }
 ],
 "metadata": {
  "kernelspec": {
   "display_name": "Python 3",
   "language": "python",
   "name": "python3"
  },
  "language_info": {
   "codemirror_mode": {
    "name": "ipython",
    "version": 3
   },
   "file_extension": ".py",
   "mimetype": "text/x-python",
   "name": "python",
   "nbconvert_exporter": "python",
   "pygments_lexer": "ipython3",
   "version": "3.12.0"
  }
 },
 "nbformat": 4,
 "nbformat_minor": 5
}
