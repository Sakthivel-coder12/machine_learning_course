{
 "cells": [
  {
   "cell_type": "code",
   "execution_count": 36,
   "id": "1e25b311",
   "metadata": {},
   "outputs": [],
   "source": [
    "from tensorflow.keras.preprocessing.text import one_hot"
   ]
  },
  {
   "cell_type": "code",
   "execution_count": 37,
   "id": "5f487fcd",
   "metadata": {},
   "outputs": [],
   "source": [
    "sent = ['the glass of milk',\n",
    "        'the glass of juice',\n",
    "        'the cup of tea',\n",
    "        'I am a good boy',\n",
    "        'I am a good developer',\n",
    "        'understand the meaning of words',\n",
    "        'your videos are good']"
   ]
  },
  {
   "cell_type": "code",
   "execution_count": 38,
   "id": "d76024fb",
   "metadata": {},
   "outputs": [
    {
     "data": {
      "text/plain": [
       "['the glass of milk',\n",
       " 'the glass of juice',\n",
       " 'the cup of tea',\n",
       " 'I am a good boy',\n",
       " 'I am a good developer',\n",
       " 'understand the meaning of words',\n",
       " 'your videos are good']"
      ]
     },
     "execution_count": 38,
     "metadata": {},
     "output_type": "execute_result"
    }
   ],
   "source": [
    "sent"
   ]
  },
  {
   "cell_type": "code",
   "execution_count": 39,
   "id": "3d96a4cb",
   "metadata": {},
   "outputs": [],
   "source": [
    "## Define the vocabulary size\n",
    "voc_size = 10000"
   ]
  },
  {
   "cell_type": "code",
   "execution_count": 40,
   "id": "515045c7",
   "metadata": {},
   "outputs": [
    {
     "data": {
      "text/plain": [
       "[[2861, 5720, 1643, 6285],\n",
       " [2861, 5720, 1643, 5451],\n",
       " [2861, 1895, 1643, 2188],\n",
       " [4789, 2484, 4774, 948, 785],\n",
       " [4789, 2484, 4774, 948, 2549],\n",
       " [5820, 2861, 2976, 1643, 8633],\n",
       " [4441, 6510, 8032, 948]]"
      ]
     },
     "execution_count": 40,
     "metadata": {},
     "output_type": "execute_result"
    }
   ],
   "source": [
    "## one Hot representation of every word\n",
    "one_hot_representation = [one_hot(words,voc_size) for words in sent]\n",
    "one_hot_representation\n",
    "\n",
    "## The below answers shows that \"the word 'the' represented as 2861 the glass is represent as 5720 \" means in the index of 5720 is 1(one) out of 10 thousands voc_size "
   ]
  },
  {
   "cell_type": "code",
   "execution_count": 41,
   "id": "26ce89d5",
   "metadata": {},
   "outputs": [],
   "source": [
    "## word embedding representation \n",
    "from tensorflow.keras.layers import Embedding\n",
    "# from tensorflow.keras.preprocessing.sequence import pad_sequences\n",
    "from tensorflow.keras.utils import pad_sequences\n",
    "from tensorflow.keras.models import Sequential"
   ]
  },
  {
   "cell_type": "markdown",
   "id": "b302e261",
   "metadata": {},
   "source": [
    "## pad_sentences\n",
    "every senetence have differet size of words , like some may have six word and some may have five words --> the padding is going to fix the sentence word size     \n",
    "\n",
    "## means we are adding the zeros in the front or back side"
   ]
  },
  {
   "cell_type": "code",
   "execution_count": 42,
   "id": "91ab1bd3",
   "metadata": {},
   "outputs": [],
   "source": [
    "import numpy as np\n",
    "sen_lenght = 8"
   ]
  },
  {
   "cell_type": "code",
   "execution_count": 43,
   "id": "85487700",
   "metadata": {},
   "outputs": [
    {
     "data": {
      "text/plain": [
       "array([[   0,    0,    0,    0, 2861, 5720, 1643, 6285],\n",
       "       [   0,    0,    0,    0, 2861, 5720, 1643, 5451],\n",
       "       [   0,    0,    0,    0, 2861, 1895, 1643, 2188],\n",
       "       [   0,    0,    0, 4789, 2484, 4774,  948,  785],\n",
       "       [   0,    0,    0, 4789, 2484, 4774,  948, 2549],\n",
       "       [   0,    0,    0, 5820, 2861, 2976, 1643, 8633],\n",
       "       [   0,    0,    0,    0, 4441, 6510, 8032,  948]])"
      ]
     },
     "execution_count": 43,
     "metadata": {},
     "output_type": "execute_result"
    }
   ],
   "source": [
    "embedded_docs = pad_sequences(one_hot_representation,padding='pre',maxlen=sen_lenght)\n",
    "embedded_docs"
   ]
  },
  {
   "cell_type": "code",
   "execution_count": 44,
   "id": "6c5f06cb",
   "metadata": {},
   "outputs": [
    {
     "data": {
      "text/plain": [
       "array([[2861, 5720, 1643, 6285,    0,    0,    0,    0],\n",
       "       [2861, 5720, 1643, 5451,    0,    0,    0,    0],\n",
       "       [2861, 1895, 1643, 2188,    0,    0,    0,    0],\n",
       "       [4789, 2484, 4774,  948,  785,    0,    0,    0],\n",
       "       [4789, 2484, 4774,  948, 2549,    0,    0,    0],\n",
       "       [5820, 2861, 2976, 1643, 8633,    0,    0,    0],\n",
       "       [4441, 6510, 8032,  948,    0,    0,    0,    0]])"
      ]
     },
     "execution_count": 44,
     "metadata": {},
     "output_type": "execute_result"
    }
   ],
   "source": [
    "## if we do post we will zeros at last \n",
    "embedded_docs_p = pad_sequences(one_hot_representation,padding='post',maxlen=sen_lenght)\n",
    "embedded_docs_p"
   ]
  },
  {
   "cell_type": "code",
   "execution_count": 45,
   "id": "3228ced4",
   "metadata": {},
   "outputs": [],
   "source": [
    "## feature representation\n",
    "\n",
    "dim = 10\n",
    "\n"
   ]
  },
  {
   "cell_type": "code",
   "execution_count": 48,
   "id": "0f90042e",
   "metadata": {},
   "outputs": [],
   "source": [
    "import warnings\n",
    "warnings.filterwarnings('ignore')\n",
    "model = Sequential()\n",
    "model.add(Embedding(voc_size,dim,input_length=sen_lenght))\n",
    "model.compile('adam','mse')"
   ]
  },
  {
   "cell_type": "code",
   "execution_count": 49,
   "id": "cd5d5d40",
   "metadata": {},
   "outputs": [
    {
     "data": {
      "text/html": [
       "<pre style=\"white-space:pre;overflow-x:auto;line-height:normal;font-family:Menlo,'DejaVu Sans Mono',consolas,'Courier New',monospace\"><span style=\"font-weight: bold\">Model: \"sequential_4\"</span>\n",
       "</pre>\n"
      ],
      "text/plain": [
       "\u001b[1mModel: \"sequential_4\"\u001b[0m\n"
      ]
     },
     "metadata": {},
     "output_type": "display_data"
    },
    {
     "data": {
      "text/html": [
       "<pre style=\"white-space:pre;overflow-x:auto;line-height:normal;font-family:Menlo,'DejaVu Sans Mono',consolas,'Courier New',monospace\">┏━━━━━━━━━━━━━━━━━━━━━━━━━━━━━━━━━┳━━━━━━━━━━━━━━━━━━━━━━━━┳━━━━━━━━━━━━━━━┓\n",
       "┃<span style=\"font-weight: bold\"> Layer (type)                    </span>┃<span style=\"font-weight: bold\"> Output Shape           </span>┃<span style=\"font-weight: bold\">       Param # </span>┃\n",
       "┡━━━━━━━━━━━━━━━━━━━━━━━━━━━━━━━━━╇━━━━━━━━━━━━━━━━━━━━━━━━╇━━━━━━━━━━━━━━━┩\n",
       "│ embedding_4 (<span style=\"color: #0087ff; text-decoration-color: #0087ff\">Embedding</span>)         │ ?                      │   <span style=\"color: #00af00; text-decoration-color: #00af00\">0</span> (unbuilt) │\n",
       "└─────────────────────────────────┴────────────────────────┴───────────────┘\n",
       "</pre>\n"
      ],
      "text/plain": [
       "┏━━━━━━━━━━━━━━━━━━━━━━━━━━━━━━━━━┳━━━━━━━━━━━━━━━━━━━━━━━━┳━━━━━━━━━━━━━━━┓\n",
       "┃\u001b[1m \u001b[0m\u001b[1mLayer (type)                   \u001b[0m\u001b[1m \u001b[0m┃\u001b[1m \u001b[0m\u001b[1mOutput Shape          \u001b[0m\u001b[1m \u001b[0m┃\u001b[1m \u001b[0m\u001b[1m      Param #\u001b[0m\u001b[1m \u001b[0m┃\n",
       "┡━━━━━━━━━━━━━━━━━━━━━━━━━━━━━━━━━╇━━━━━━━━━━━━━━━━━━━━━━━━╇━━━━━━━━━━━━━━━┩\n",
       "│ embedding_4 (\u001b[38;5;33mEmbedding\u001b[0m)         │ ?                      │   \u001b[38;5;34m0\u001b[0m (unbuilt) │\n",
       "└─────────────────────────────────┴────────────────────────┴───────────────┘\n"
      ]
     },
     "metadata": {},
     "output_type": "display_data"
    },
    {
     "data": {
      "text/html": [
       "<pre style=\"white-space:pre;overflow-x:auto;line-height:normal;font-family:Menlo,'DejaVu Sans Mono',consolas,'Courier New',monospace\"><span style=\"font-weight: bold\"> Total params: </span><span style=\"color: #00af00; text-decoration-color: #00af00\">0</span> (0.00 B)\n",
       "</pre>\n"
      ],
      "text/plain": [
       "\u001b[1m Total params: \u001b[0m\u001b[38;5;34m0\u001b[0m (0.00 B)\n"
      ]
     },
     "metadata": {},
     "output_type": "display_data"
    },
    {
     "data": {
      "text/html": [
       "<pre style=\"white-space:pre;overflow-x:auto;line-height:normal;font-family:Menlo,'DejaVu Sans Mono',consolas,'Courier New',monospace\"><span style=\"font-weight: bold\"> Trainable params: </span><span style=\"color: #00af00; text-decoration-color: #00af00\">0</span> (0.00 B)\n",
       "</pre>\n"
      ],
      "text/plain": [
       "\u001b[1m Trainable params: \u001b[0m\u001b[38;5;34m0\u001b[0m (0.00 B)\n"
      ]
     },
     "metadata": {},
     "output_type": "display_data"
    },
    {
     "data": {
      "text/html": [
       "<pre style=\"white-space:pre;overflow-x:auto;line-height:normal;font-family:Menlo,'DejaVu Sans Mono',consolas,'Courier New',monospace\"><span style=\"font-weight: bold\"> Non-trainable params: </span><span style=\"color: #00af00; text-decoration-color: #00af00\">0</span> (0.00 B)\n",
       "</pre>\n"
      ],
      "text/plain": [
       "\u001b[1m Non-trainable params: \u001b[0m\u001b[38;5;34m0\u001b[0m (0.00 B)\n"
      ]
     },
     "metadata": {},
     "output_type": "display_data"
    }
   ],
   "source": [
    "model.summary()"
   ]
  },
  {
   "cell_type": "markdown",
   "id": "e97a6cb4",
   "metadata": {},
   "source": [
    "why this is not showing any output because we did build the model so we have to do the below steps before the model.summary()"
   ]
  },
  {
   "cell_type": "code",
   "execution_count": 51,
   "id": "283bc96f",
   "metadata": {},
   "outputs": [
    {
     "data": {
      "text/plain": [
       "'In deep learning frameworks (like Keras, TensorFlow, PyTorch), the batch size is usually flexible.\\n\\nNone means: “At runtime, I can accept any batch size.”\\n\\nExample: During training, you may pass batch_size=32, but during inference you might pass batch_size=1.\\n\\nKeeping it None makes the model general.'"
      ]
     },
     "execution_count": 51,
     "metadata": {},
     "output_type": "execute_result"
    }
   ],
   "source": [
    "# building the model \n",
    "## syntax is model.build(batch_size,sent_length)\n",
    "model.build(input_shape=(None,sen_lenght))\n",
    "\n",
    "# why None \n",
    "'''In deep learning frameworks (like Keras, TensorFlow, PyTorch), the batch size is usually flexible.\n",
    "\n",
    "None means: “At runtime, I can accept any batch size.”\n",
    "\n",
    "Example: During training, you may pass batch_size=32, but during inference you might pass batch_size=1.\n",
    "\n",
    "Keeping it None makes the model general.'''"
   ]
  },
  {
   "cell_type": "code",
   "execution_count": 52,
   "id": "53056189",
   "metadata": {},
   "outputs": [
    {
     "data": {
      "text/html": [
       "<pre style=\"white-space:pre;overflow-x:auto;line-height:normal;font-family:Menlo,'DejaVu Sans Mono',consolas,'Courier New',monospace\"><span style=\"font-weight: bold\">Model: \"sequential_4\"</span>\n",
       "</pre>\n"
      ],
      "text/plain": [
       "\u001b[1mModel: \"sequential_4\"\u001b[0m\n"
      ]
     },
     "metadata": {},
     "output_type": "display_data"
    },
    {
     "data": {
      "text/html": [
       "<pre style=\"white-space:pre;overflow-x:auto;line-height:normal;font-family:Menlo,'DejaVu Sans Mono',consolas,'Courier New',monospace\">┏━━━━━━━━━━━━━━━━━━━━━━━━━━━━━━━━━┳━━━━━━━━━━━━━━━━━━━━━━━━┳━━━━━━━━━━━━━━━┓\n",
       "┃<span style=\"font-weight: bold\"> Layer (type)                    </span>┃<span style=\"font-weight: bold\"> Output Shape           </span>┃<span style=\"font-weight: bold\">       Param # </span>┃\n",
       "┡━━━━━━━━━━━━━━━━━━━━━━━━━━━━━━━━━╇━━━━━━━━━━━━━━━━━━━━━━━━╇━━━━━━━━━━━━━━━┩\n",
       "│ embedding_4 (<span style=\"color: #0087ff; text-decoration-color: #0087ff\">Embedding</span>)         │ (<span style=\"color: #00d7ff; text-decoration-color: #00d7ff\">None</span>, <span style=\"color: #00af00; text-decoration-color: #00af00\">8</span>, <span style=\"color: #00af00; text-decoration-color: #00af00\">10</span>)          │       <span style=\"color: #00af00; text-decoration-color: #00af00\">100,000</span> │\n",
       "└─────────────────────────────────┴────────────────────────┴───────────────┘\n",
       "</pre>\n"
      ],
      "text/plain": [
       "┏━━━━━━━━━━━━━━━━━━━━━━━━━━━━━━━━━┳━━━━━━━━━━━━━━━━━━━━━━━━┳━━━━━━━━━━━━━━━┓\n",
       "┃\u001b[1m \u001b[0m\u001b[1mLayer (type)                   \u001b[0m\u001b[1m \u001b[0m┃\u001b[1m \u001b[0m\u001b[1mOutput Shape          \u001b[0m\u001b[1m \u001b[0m┃\u001b[1m \u001b[0m\u001b[1m      Param #\u001b[0m\u001b[1m \u001b[0m┃\n",
       "┡━━━━━━━━━━━━━━━━━━━━━━━━━━━━━━━━━╇━━━━━━━━━━━━━━━━━━━━━━━━╇━━━━━━━━━━━━━━━┩\n",
       "│ embedding_4 (\u001b[38;5;33mEmbedding\u001b[0m)         │ (\u001b[38;5;45mNone\u001b[0m, \u001b[38;5;34m8\u001b[0m, \u001b[38;5;34m10\u001b[0m)          │       \u001b[38;5;34m100,000\u001b[0m │\n",
       "└─────────────────────────────────┴────────────────────────┴───────────────┘\n"
      ]
     },
     "metadata": {},
     "output_type": "display_data"
    },
    {
     "data": {
      "text/html": [
       "<pre style=\"white-space:pre;overflow-x:auto;line-height:normal;font-family:Menlo,'DejaVu Sans Mono',consolas,'Courier New',monospace\"><span style=\"font-weight: bold\"> Total params: </span><span style=\"color: #00af00; text-decoration-color: #00af00\">100,000</span> (390.62 KB)\n",
       "</pre>\n"
      ],
      "text/plain": [
       "\u001b[1m Total params: \u001b[0m\u001b[38;5;34m100,000\u001b[0m (390.62 KB)\n"
      ]
     },
     "metadata": {},
     "output_type": "display_data"
    },
    {
     "data": {
      "text/html": [
       "<pre style=\"white-space:pre;overflow-x:auto;line-height:normal;font-family:Menlo,'DejaVu Sans Mono',consolas,'Courier New',monospace\"><span style=\"font-weight: bold\"> Trainable params: </span><span style=\"color: #00af00; text-decoration-color: #00af00\">100,000</span> (390.62 KB)\n",
       "</pre>\n"
      ],
      "text/plain": [
       "\u001b[1m Trainable params: \u001b[0m\u001b[38;5;34m100,000\u001b[0m (390.62 KB)\n"
      ]
     },
     "metadata": {},
     "output_type": "display_data"
    },
    {
     "data": {
      "text/html": [
       "<pre style=\"white-space:pre;overflow-x:auto;line-height:normal;font-family:Menlo,'DejaVu Sans Mono',consolas,'Courier New',monospace\"><span style=\"font-weight: bold\"> Non-trainable params: </span><span style=\"color: #00af00; text-decoration-color: #00af00\">0</span> (0.00 B)\n",
       "</pre>\n"
      ],
      "text/plain": [
       "\u001b[1m Non-trainable params: \u001b[0m\u001b[38;5;34m0\u001b[0m (0.00 B)\n"
      ]
     },
     "metadata": {},
     "output_type": "display_data"
    }
   ],
   "source": [
    "model.summary()"
   ]
  },
  {
   "cell_type": "code",
   "execution_count": 53,
   "id": "b9aef0ba",
   "metadata": {},
   "outputs": [
    {
     "data": {
      "text/html": [
       "<pre style=\"white-space:pre;overflow-x:auto;line-height:normal;font-family:Menlo,'DejaVu Sans Mono',consolas,'Courier New',monospace\"><span style=\"font-weight: bold\">Model: \"sequential_4\"</span>\n",
       "</pre>\n"
      ],
      "text/plain": [
       "\u001b[1mModel: \"sequential_4\"\u001b[0m\n"
      ]
     },
     "metadata": {},
     "output_type": "display_data"
    },
    {
     "data": {
      "text/html": [
       "<pre style=\"white-space:pre;overflow-x:auto;line-height:normal;font-family:Menlo,'DejaVu Sans Mono',consolas,'Courier New',monospace\">┏━━━━━━━━━━━━━━━━━━━━━━━━━━━━━━━━━┳━━━━━━━━━━━━━━━━━━━━━━━━┳━━━━━━━━━━━━━━━┓\n",
       "┃<span style=\"font-weight: bold\"> Layer (type)                    </span>┃<span style=\"font-weight: bold\"> Output Shape           </span>┃<span style=\"font-weight: bold\">       Param # </span>┃\n",
       "┡━━━━━━━━━━━━━━━━━━━━━━━━━━━━━━━━━╇━━━━━━━━━━━━━━━━━━━━━━━━╇━━━━━━━━━━━━━━━┩\n",
       "│ embedding_4 (<span style=\"color: #0087ff; text-decoration-color: #0087ff\">Embedding</span>)         │ (<span style=\"color: #00d7ff; text-decoration-color: #00d7ff\">None</span>, <span style=\"color: #00af00; text-decoration-color: #00af00\">8</span>, <span style=\"color: #00af00; text-decoration-color: #00af00\">10</span>)          │       <span style=\"color: #00af00; text-decoration-color: #00af00\">100,000</span> │\n",
       "└─────────────────────────────────┴────────────────────────┴───────────────┘\n",
       "</pre>\n"
      ],
      "text/plain": [
       "┏━━━━━━━━━━━━━━━━━━━━━━━━━━━━━━━━━┳━━━━━━━━━━━━━━━━━━━━━━━━┳━━━━━━━━━━━━━━━┓\n",
       "┃\u001b[1m \u001b[0m\u001b[1mLayer (type)                   \u001b[0m\u001b[1m \u001b[0m┃\u001b[1m \u001b[0m\u001b[1mOutput Shape          \u001b[0m\u001b[1m \u001b[0m┃\u001b[1m \u001b[0m\u001b[1m      Param #\u001b[0m\u001b[1m \u001b[0m┃\n",
       "┡━━━━━━━━━━━━━━━━━━━━━━━━━━━━━━━━━╇━━━━━━━━━━━━━━━━━━━━━━━━╇━━━━━━━━━━━━━━━┩\n",
       "│ embedding_4 (\u001b[38;5;33mEmbedding\u001b[0m)         │ (\u001b[38;5;45mNone\u001b[0m, \u001b[38;5;34m8\u001b[0m, \u001b[38;5;34m10\u001b[0m)          │       \u001b[38;5;34m100,000\u001b[0m │\n",
       "└─────────────────────────────────┴────────────────────────┴───────────────┘\n"
      ]
     },
     "metadata": {},
     "output_type": "display_data"
    },
    {
     "data": {
      "text/html": [
       "<pre style=\"white-space:pre;overflow-x:auto;line-height:normal;font-family:Menlo,'DejaVu Sans Mono',consolas,'Courier New',monospace\"><span style=\"font-weight: bold\"> Total params: </span><span style=\"color: #00af00; text-decoration-color: #00af00\">100,000</span> (390.62 KB)\n",
       "</pre>\n"
      ],
      "text/plain": [
       "\u001b[1m Total params: \u001b[0m\u001b[38;5;34m100,000\u001b[0m (390.62 KB)\n"
      ]
     },
     "metadata": {},
     "output_type": "display_data"
    },
    {
     "data": {
      "text/html": [
       "<pre style=\"white-space:pre;overflow-x:auto;line-height:normal;font-family:Menlo,'DejaVu Sans Mono',consolas,'Courier New',monospace\"><span style=\"font-weight: bold\"> Trainable params: </span><span style=\"color: #00af00; text-decoration-color: #00af00\">100,000</span> (390.62 KB)\n",
       "</pre>\n"
      ],
      "text/plain": [
       "\u001b[1m Trainable params: \u001b[0m\u001b[38;5;34m100,000\u001b[0m (390.62 KB)\n"
      ]
     },
     "metadata": {},
     "output_type": "display_data"
    },
    {
     "data": {
      "text/html": [
       "<pre style=\"white-space:pre;overflow-x:auto;line-height:normal;font-family:Menlo,'DejaVu Sans Mono',consolas,'Courier New',monospace\"><span style=\"font-weight: bold\"> Non-trainable params: </span><span style=\"color: #00af00; text-decoration-color: #00af00\">0</span> (0.00 B)\n",
       "</pre>\n"
      ],
      "text/plain": [
       "\u001b[1m Non-trainable params: \u001b[0m\u001b[38;5;34m0\u001b[0m (0.00 B)\n"
      ]
     },
     "metadata": {},
     "output_type": "display_data"
    }
   ],
   "source": [
    "## instead of build we can do this also , when we don't know the sen_lenght\n",
    "'''Builds the model automatically by passing a batch of real data.\n",
    "\n",
    "Useful if you don’t want to manually specify shapes or if input size may vary.\n",
    "\n",
    "Sometimes used in exploratory notebooks, but less clean for production.'''\n",
    "\n",
    "model(np.array(embedded_docs))\n",
    "model.summary()"
   ]
  },
  {
   "cell_type": "code",
   "execution_count": null,
   "id": "b6856185",
   "metadata": {},
   "outputs": [
    {
     "name": "stdout",
     "output_type": "stream",
     "text": [
      "\u001b[1m1/1\u001b[0m \u001b[32m━━━━━━━━━━━━━━━━━━━━\u001b[0m\u001b[37m\u001b[0m \u001b[1m0s\u001b[0m 205ms/step\n"
     ]
    },
    {
     "data": {
      "text/plain": [
       "array([[[-0.02381928, -0.02071827,  0.01820118,  0.02629871,\n",
       "          0.03024021, -0.04788003,  0.03169017, -0.03292172,\n",
       "         -0.00117482, -0.04851773],\n",
       "        [-0.02381928, -0.02071827,  0.01820118,  0.02629871,\n",
       "          0.03024021, -0.04788003,  0.03169017, -0.03292172,\n",
       "         -0.00117482, -0.04851773],\n",
       "        [-0.02381928, -0.02071827,  0.01820118,  0.02629871,\n",
       "          0.03024021, -0.04788003,  0.03169017, -0.03292172,\n",
       "         -0.00117482, -0.04851773],\n",
       "        [-0.02381928, -0.02071827,  0.01820118,  0.02629871,\n",
       "          0.03024021, -0.04788003,  0.03169017, -0.03292172,\n",
       "         -0.00117482, -0.04851773],\n",
       "        [-0.04823826, -0.0491923 , -0.01708589, -0.01624478,\n",
       "          0.027057  ,  0.02475787,  0.02437856,  0.0387255 ,\n",
       "          0.0448938 ,  0.02203972],\n",
       "        [ 0.02945467,  0.00761563,  0.0128533 ,  0.00380547,\n",
       "         -0.02448976, -0.01320811,  0.01687528,  0.0399196 ,\n",
       "          0.02906786,  0.0055616 ],\n",
       "        [-0.04490886, -0.01955278,  0.03511664, -0.036916  ,\n",
       "         -0.04304599, -0.00228952, -0.03797524,  0.04675337,\n",
       "          0.01385735,  0.04710952],\n",
       "        [ 0.01388529, -0.03248314, -0.01752938,  0.0040593 ,\n",
       "          0.0258855 , -0.03012223, -0.04665715,  0.02836565,\n",
       "          0.03841232,  0.0110186 ]],\n",
       "\n",
       "       [[-0.02381928, -0.02071827,  0.01820118,  0.02629871,\n",
       "          0.03024021, -0.04788003,  0.03169017, -0.03292172,\n",
       "         -0.00117482, -0.04851773],\n",
       "        [-0.02381928, -0.02071827,  0.01820118,  0.02629871,\n",
       "          0.03024021, -0.04788003,  0.03169017, -0.03292172,\n",
       "         -0.00117482, -0.04851773],\n",
       "        [-0.02381928, -0.02071827,  0.01820118,  0.02629871,\n",
       "          0.03024021, -0.04788003,  0.03169017, -0.03292172,\n",
       "         -0.00117482, -0.04851773],\n",
       "        [-0.02381928, -0.02071827,  0.01820118,  0.02629871,\n",
       "          0.03024021, -0.04788003,  0.03169017, -0.03292172,\n",
       "         -0.00117482, -0.04851773],\n",
       "        [-0.04823826, -0.0491923 , -0.01708589, -0.01624478,\n",
       "          0.027057  ,  0.02475787,  0.02437856,  0.0387255 ,\n",
       "          0.0448938 ,  0.02203972],\n",
       "        [ 0.02945467,  0.00761563,  0.0128533 ,  0.00380547,\n",
       "         -0.02448976, -0.01320811,  0.01687528,  0.0399196 ,\n",
       "          0.02906786,  0.0055616 ],\n",
       "        [-0.04490886, -0.01955278,  0.03511664, -0.036916  ,\n",
       "         -0.04304599, -0.00228952, -0.03797524,  0.04675337,\n",
       "          0.01385735,  0.04710952],\n",
       "        [ 0.04315862,  0.03555853, -0.01902071,  0.03113207,\n",
       "          0.00076667,  0.02363304, -0.03703505,  0.00333109,\n",
       "         -0.04376544, -0.03819091]],\n",
       "\n",
       "       [[-0.02381928, -0.02071827,  0.01820118,  0.02629871,\n",
       "          0.03024021, -0.04788003,  0.03169017, -0.03292172,\n",
       "         -0.00117482, -0.04851773],\n",
       "        [-0.02381928, -0.02071827,  0.01820118,  0.02629871,\n",
       "          0.03024021, -0.04788003,  0.03169017, -0.03292172,\n",
       "         -0.00117482, -0.04851773],\n",
       "        [-0.02381928, -0.02071827,  0.01820118,  0.02629871,\n",
       "          0.03024021, -0.04788003,  0.03169017, -0.03292172,\n",
       "         -0.00117482, -0.04851773],\n",
       "        [-0.02381928, -0.02071827,  0.01820118,  0.02629871,\n",
       "          0.03024021, -0.04788003,  0.03169017, -0.03292172,\n",
       "         -0.00117482, -0.04851773],\n",
       "        [-0.04823826, -0.0491923 , -0.01708589, -0.01624478,\n",
       "          0.027057  ,  0.02475787,  0.02437856,  0.0387255 ,\n",
       "          0.0448938 ,  0.02203972],\n",
       "        [-0.03763273,  0.01871428, -0.01615164,  0.04033113,\n",
       "         -0.01877373, -0.01117978,  0.02612132,  0.02297005,\n",
       "         -0.00584175, -0.03838952],\n",
       "        [-0.04490886, -0.01955278,  0.03511664, -0.036916  ,\n",
       "         -0.04304599, -0.00228952, -0.03797524,  0.04675337,\n",
       "          0.01385735,  0.04710952],\n",
       "        [ 0.03076792, -0.04614433, -0.0210806 ,  0.04249198,\n",
       "         -0.04139644,  0.02838412,  0.00835581,  0.02221109,\n",
       "          0.01478374,  0.01663008]],\n",
       "\n",
       "       [[-0.02381928, -0.02071827,  0.01820118,  0.02629871,\n",
       "          0.03024021, -0.04788003,  0.03169017, -0.03292172,\n",
       "         -0.00117482, -0.04851773],\n",
       "        [-0.02381928, -0.02071827,  0.01820118,  0.02629871,\n",
       "          0.03024021, -0.04788003,  0.03169017, -0.03292172,\n",
       "         -0.00117482, -0.04851773],\n",
       "        [-0.02381928, -0.02071827,  0.01820118,  0.02629871,\n",
       "          0.03024021, -0.04788003,  0.03169017, -0.03292172,\n",
       "         -0.00117482, -0.04851773],\n",
       "        [-0.04206911,  0.04142668,  0.0357774 , -0.00888519,\n",
       "         -0.02513113, -0.03345773,  0.03111053,  0.03809578,\n",
       "          0.00455382,  0.03605274],\n",
       "        [ 0.04551902,  0.02973842,  0.01458731, -0.04919391,\n",
       "          0.01794154, -0.0387117 ,  0.00802024,  0.02921117,\n",
       "         -0.0288653 ,  0.04268381],\n",
       "        [ 0.04714124, -0.00686496,  0.01054007, -0.02216456,\n",
       "         -0.01720641,  0.00072093,  0.04391705, -0.02925737,\n",
       "         -0.01516118, -0.0188715 ],\n",
       "        [ 0.00789388, -0.04875195, -0.01342704, -0.01638078,\n",
       "         -0.04359445, -0.02438425, -0.03834555,  0.0322966 ,\n",
       "         -0.02805572, -0.01253151],\n",
       "        [ 0.01518438,  0.03274378, -0.02095896, -0.04126287,\n",
       "          0.03795527,  0.0038241 ,  0.01983917, -0.03214937,\n",
       "         -0.02361019,  0.04098532]],\n",
       "\n",
       "       [[-0.02381928, -0.02071827,  0.01820118,  0.02629871,\n",
       "          0.03024021, -0.04788003,  0.03169017, -0.03292172,\n",
       "         -0.00117482, -0.04851773],\n",
       "        [-0.02381928, -0.02071827,  0.01820118,  0.02629871,\n",
       "          0.03024021, -0.04788003,  0.03169017, -0.03292172,\n",
       "         -0.00117482, -0.04851773],\n",
       "        [-0.02381928, -0.02071827,  0.01820118,  0.02629871,\n",
       "          0.03024021, -0.04788003,  0.03169017, -0.03292172,\n",
       "         -0.00117482, -0.04851773],\n",
       "        [-0.04206911,  0.04142668,  0.0357774 , -0.00888519,\n",
       "         -0.02513113, -0.03345773,  0.03111053,  0.03809578,\n",
       "          0.00455382,  0.03605274],\n",
       "        [ 0.04551902,  0.02973842,  0.01458731, -0.04919391,\n",
       "          0.01794154, -0.0387117 ,  0.00802024,  0.02921117,\n",
       "         -0.0288653 ,  0.04268381],\n",
       "        [ 0.04714124, -0.00686496,  0.01054007, -0.02216456,\n",
       "         -0.01720641,  0.00072093,  0.04391705, -0.02925737,\n",
       "         -0.01516118, -0.0188715 ],\n",
       "        [ 0.00789388, -0.04875195, -0.01342704, -0.01638078,\n",
       "         -0.04359445, -0.02438425, -0.03834555,  0.0322966 ,\n",
       "         -0.02805572, -0.01253151],\n",
       "        [-0.0135042 ,  0.01762006,  0.01371792, -0.02456131,\n",
       "         -0.03590088, -0.03093331, -0.01088433, -0.04936975,\n",
       "          0.04102923,  0.04088346]],\n",
       "\n",
       "       [[-0.02381928, -0.02071827,  0.01820118,  0.02629871,\n",
       "          0.03024021, -0.04788003,  0.03169017, -0.03292172,\n",
       "         -0.00117482, -0.04851773],\n",
       "        [-0.02381928, -0.02071827,  0.01820118,  0.02629871,\n",
       "          0.03024021, -0.04788003,  0.03169017, -0.03292172,\n",
       "         -0.00117482, -0.04851773],\n",
       "        [-0.02381928, -0.02071827,  0.01820118,  0.02629871,\n",
       "          0.03024021, -0.04788003,  0.03169017, -0.03292172,\n",
       "         -0.00117482, -0.04851773],\n",
       "        [-0.03737883, -0.02316532,  0.01726247, -0.04133064,\n",
       "          0.01607765, -0.02741377, -0.04606774,  0.02538404,\n",
       "         -0.03368322,  0.01734396],\n",
       "        [-0.04823826, -0.0491923 , -0.01708589, -0.01624478,\n",
       "          0.027057  ,  0.02475787,  0.02437856,  0.0387255 ,\n",
       "          0.0448938 ,  0.02203972],\n",
       "        [ 0.04694918, -0.02316325,  0.02086914, -0.03618481,\n",
       "         -0.02084266,  0.03226597, -0.01065694, -0.03588189,\n",
       "         -0.03422178, -0.04919114],\n",
       "        [-0.04490886, -0.01955278,  0.03511664, -0.036916  ,\n",
       "         -0.04304599, -0.00228952, -0.03797524,  0.04675337,\n",
       "          0.01385735,  0.04710952],\n",
       "        [-0.04804161, -0.04629144, -0.03577125, -0.03224621,\n",
       "          0.04068827, -0.04596483, -0.01808636, -0.00132274,\n",
       "         -0.04997493, -0.00041723]],\n",
       "\n",
       "       [[-0.02381928, -0.02071827,  0.01820118,  0.02629871,\n",
       "          0.03024021, -0.04788003,  0.03169017, -0.03292172,\n",
       "         -0.00117482, -0.04851773],\n",
       "        [-0.02381928, -0.02071827,  0.01820118,  0.02629871,\n",
       "          0.03024021, -0.04788003,  0.03169017, -0.03292172,\n",
       "         -0.00117482, -0.04851773],\n",
       "        [-0.02381928, -0.02071827,  0.01820118,  0.02629871,\n",
       "          0.03024021, -0.04788003,  0.03169017, -0.03292172,\n",
       "         -0.00117482, -0.04851773],\n",
       "        [-0.02381928, -0.02071827,  0.01820118,  0.02629871,\n",
       "          0.03024021, -0.04788003,  0.03169017, -0.03292172,\n",
       "         -0.00117482, -0.04851773],\n",
       "        [ 0.04394231,  0.02847692,  0.02190297,  0.00024127,\n",
       "         -0.01879459, -0.00165343, -0.012326  , -0.03632247,\n",
       "         -0.02627149,  0.04353851],\n",
       "        [ 0.00876452,  0.01600369, -0.00664816, -0.02142804,\n",
       "         -0.02265929,  0.04512993, -0.02306166, -0.00468546,\n",
       "         -0.0393258 ,  0.01008884],\n",
       "        [ 0.04817201, -0.04010444,  0.01497536, -0.04125496,\n",
       "         -0.03766887,  0.00517048,  0.00899023,  0.04409318,\n",
       "          0.02898217,  0.00664761],\n",
       "        [ 0.00789388, -0.04875195, -0.01342704, -0.01638078,\n",
       "         -0.04359445, -0.02438425, -0.03834555,  0.0322966 ,\n",
       "         -0.02805572, -0.01253151]]], dtype=float32)"
      ]
     },
     "execution_count": 54,
     "metadata": {},
     "output_type": "execute_result"
    }
   ],
   "source": [
    "model.predict(embedded_docs)  ## we can see that every word is turn into 10 dimension "
   ]
  },
  {
   "cell_type": "code",
   "execution_count": 55,
   "id": "0c4a6b01",
   "metadata": {},
   "outputs": [
    {
     "data": {
      "text/plain": [
       "array([   0,    0,    0,    0, 2861, 5720, 1643, 6285])"
      ]
     },
     "execution_count": 55,
     "metadata": {},
     "output_type": "execute_result"
    }
   ],
   "source": [
    "embedded_docs[0]"
   ]
  },
  {
   "cell_type": "code",
   "execution_count": 58,
   "id": "4af976fd",
   "metadata": {},
   "outputs": [
    {
     "ename": "ValueError",
     "evalue": "Exception encountered when calling Sequential.call().\n\n\u001b[1mCannot take the length of shape with unknown rank.\u001b[0m\n\nArguments received by Sequential.call():\n  • inputs=tf.Tensor(shape=<unknown>, dtype=int32)\n  • training=False\n  • mask=None\n  • kwargs=<class 'inspect._empty'>",
     "output_type": "error",
     "traceback": [
      "\u001b[1;31m---------------------------------------------------------------------------\u001b[0m",
      "\u001b[1;31mValueError\u001b[0m                                Traceback (most recent call last)",
      "Cell \u001b[1;32mIn[58], line 1\u001b[0m\n\u001b[1;32m----> 1\u001b[0m \u001b[43mmodel\u001b[49m\u001b[38;5;241;43m.\u001b[39;49m\u001b[43mpredict\u001b[49m\u001b[43m(\u001b[49m\u001b[43mnp\u001b[49m\u001b[38;5;241;43m.\u001b[39;49m\u001b[43marray\u001b[49m\u001b[43m(\u001b[49m\u001b[43membedded_docs\u001b[49m\u001b[43m[\u001b[49m\u001b[38;5;241;43m0\u001b[39;49m\u001b[43m]\u001b[49m\u001b[43m)\u001b[49m\u001b[43m)\u001b[49m\n",
      "File \u001b[1;32mc:\\Users\\sakth\\OneDrive\\Desktop\\annclassification\\dl\\lib\\site-packages\\keras\\src\\utils\\traceback_utils.py:122\u001b[0m, in \u001b[0;36mfilter_traceback.<locals>.error_handler\u001b[1;34m(*args, **kwargs)\u001b[0m\n\u001b[0;32m    119\u001b[0m     filtered_tb \u001b[38;5;241m=\u001b[39m _process_traceback_frames(e\u001b[38;5;241m.\u001b[39m__traceback__)\n\u001b[0;32m    120\u001b[0m     \u001b[38;5;66;03m# To get the full stack trace, call:\u001b[39;00m\n\u001b[0;32m    121\u001b[0m     \u001b[38;5;66;03m# `keras.config.disable_traceback_filtering()`\u001b[39;00m\n\u001b[1;32m--> 122\u001b[0m     \u001b[38;5;28;01mraise\u001b[39;00m e\u001b[38;5;241m.\u001b[39mwith_traceback(filtered_tb) \u001b[38;5;28;01mfrom\u001b[39;00m\u001b[38;5;250m \u001b[39m\u001b[38;5;28;01mNone\u001b[39;00m\n\u001b[0;32m    123\u001b[0m \u001b[38;5;28;01mfinally\u001b[39;00m:\n\u001b[0;32m    124\u001b[0m     \u001b[38;5;28;01mdel\u001b[39;00m filtered_tb\n",
      "File \u001b[1;32mc:\\Users\\sakth\\OneDrive\\Desktop\\annclassification\\dl\\lib\\site-packages\\keras\\src\\utils\\traceback_utils.py:122\u001b[0m, in \u001b[0;36mfilter_traceback.<locals>.error_handler\u001b[1;34m(*args, **kwargs)\u001b[0m\n\u001b[0;32m    119\u001b[0m     filtered_tb \u001b[38;5;241m=\u001b[39m _process_traceback_frames(e\u001b[38;5;241m.\u001b[39m__traceback__)\n\u001b[0;32m    120\u001b[0m     \u001b[38;5;66;03m# To get the full stack trace, call:\u001b[39;00m\n\u001b[0;32m    121\u001b[0m     \u001b[38;5;66;03m# `keras.config.disable_traceback_filtering()`\u001b[39;00m\n\u001b[1;32m--> 122\u001b[0m     \u001b[38;5;28;01mraise\u001b[39;00m e\u001b[38;5;241m.\u001b[39mwith_traceback(filtered_tb) \u001b[38;5;28;01mfrom\u001b[39;00m\u001b[38;5;250m \u001b[39m\u001b[38;5;28;01mNone\u001b[39;00m\n\u001b[0;32m    123\u001b[0m \u001b[38;5;28;01mfinally\u001b[39;00m:\n\u001b[0;32m    124\u001b[0m     \u001b[38;5;28;01mdel\u001b[39;00m filtered_tb\n",
      "\u001b[1;31mValueError\u001b[0m: Exception encountered when calling Sequential.call().\n\n\u001b[1mCannot take the length of shape with unknown rank.\u001b[0m\n\nArguments received by Sequential.call():\n  • inputs=tf.Tensor(shape=<unknown>, dtype=int32)\n  • training=False\n  • mask=None\n  • kwargs=<class 'inspect._empty'>"
     ]
    }
   ],
   "source": [
    "model.predict(np.array(embedded_docs[0]))"
   ]
  },
  {
   "cell_type": "code",
   "execution_count": 59,
   "id": "1e7aee7e",
   "metadata": {},
   "outputs": [
    {
     "name": "stdout",
     "output_type": "stream",
     "text": [
      "\u001b[1m1/1\u001b[0m \u001b[32m━━━━━━━━━━━━━━━━━━━━\u001b[0m\u001b[37m\u001b[0m \u001b[1m0s\u001b[0m 62ms/step\n"
     ]
    },
    {
     "data": {
      "text/plain": [
       "array([[[-0.02381928, -0.02071827,  0.01820118,  0.02629871,\n",
       "          0.03024021, -0.04788003,  0.03169017, -0.03292172,\n",
       "         -0.00117482, -0.04851773],\n",
       "        [-0.02381928, -0.02071827,  0.01820118,  0.02629871,\n",
       "          0.03024021, -0.04788003,  0.03169017, -0.03292172,\n",
       "         -0.00117482, -0.04851773],\n",
       "        [-0.02381928, -0.02071827,  0.01820118,  0.02629871,\n",
       "          0.03024021, -0.04788003,  0.03169017, -0.03292172,\n",
       "         -0.00117482, -0.04851773],\n",
       "        [-0.02381928, -0.02071827,  0.01820118,  0.02629871,\n",
       "          0.03024021, -0.04788003,  0.03169017, -0.03292172,\n",
       "         -0.00117482, -0.04851773],\n",
       "        [-0.04823826, -0.0491923 , -0.01708589, -0.01624478,\n",
       "          0.027057  ,  0.02475787,  0.02437856,  0.0387255 ,\n",
       "          0.0448938 ,  0.02203972],\n",
       "        [ 0.02945467,  0.00761563,  0.0128533 ,  0.00380547,\n",
       "         -0.02448976, -0.01320811,  0.01687528,  0.0399196 ,\n",
       "          0.02906786,  0.0055616 ],\n",
       "        [-0.04490886, -0.01955278,  0.03511664, -0.036916  ,\n",
       "         -0.04304599, -0.00228952, -0.03797524,  0.04675337,\n",
       "          0.01385735,  0.04710952],\n",
       "        [ 0.01388529, -0.03248314, -0.01752938,  0.0040593 ,\n",
       "          0.0258855 , -0.03012223, -0.04665715,  0.02836565,\n",
       "          0.03841232,  0.0110186 ]]], dtype=float32)"
      ]
     },
     "execution_count": 59,
     "metadata": {},
     "output_type": "execute_result"
    }
   ],
   "source": [
    "model.predict(np.expand_dims(embedded_docs[0], axis=0))\n"
   ]
  },
  {
   "cell_type": "code",
   "execution_count": null,
   "id": "66bf0267",
   "metadata": {},
   "outputs": [],
   "source": []
  }
 ],
 "metadata": {
  "kernelspec": {
   "display_name": "Python 3",
   "language": "python",
   "name": "python3"
  },
  "language_info": {
   "codemirror_mode": {
    "name": "ipython",
    "version": 3
   },
   "file_extension": ".py",
   "mimetype": "text/x-python",
   "name": "python",
   "nbconvert_exporter": "python",
   "pygments_lexer": "ipython3",
   "version": "3.10.18"
  }
 },
 "nbformat": 4,
 "nbformat_minor": 5
}
