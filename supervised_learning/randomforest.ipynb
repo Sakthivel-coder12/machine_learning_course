{
 "cells": [
  {
   "cell_type": "code",
   "execution_count": 123,
   "id": "606615e5",
   "metadata": {},
   "outputs": [],
   "source": [
    "import pandas as pd\n",
    "import numpy as np\n",
    "import matplotlib.pyplot as plt\n",
    "import seaborn as sns\n",
    "%matplotlib inline\n",
    "import warnings\n",
    "warnings.filterwarnings('ignore')"
   ]
  },
  {
   "cell_type": "code",
   "execution_count": 124,
   "id": "3c50559b",
   "metadata": {},
   "outputs": [],
   "source": [
    "df = pd.read_csv('../dataset/Travel.csv')"
   ]
  },
  {
   "cell_type": "code",
   "execution_count": 125,
   "id": "b7d8a39f",
   "metadata": {},
   "outputs": [
    {
     "data": {
      "text/html": [
       "<div>\n",
       "<style scoped>\n",
       "    .dataframe tbody tr th:only-of-type {\n",
       "        vertical-align: middle;\n",
       "    }\n",
       "\n",
       "    .dataframe tbody tr th {\n",
       "        vertical-align: top;\n",
       "    }\n",
       "\n",
       "    .dataframe thead th {\n",
       "        text-align: right;\n",
       "    }\n",
       "</style>\n",
       "<table border=\"1\" class=\"dataframe\">\n",
       "  <thead>\n",
       "    <tr style=\"text-align: right;\">\n",
       "      <th></th>\n",
       "      <th>CustomerID</th>\n",
       "      <th>ProdTaken</th>\n",
       "      <th>Age</th>\n",
       "      <th>TypeofContact</th>\n",
       "      <th>CityTier</th>\n",
       "      <th>DurationOfPitch</th>\n",
       "      <th>Occupation</th>\n",
       "      <th>Gender</th>\n",
       "      <th>NumberOfPersonVisiting</th>\n",
       "      <th>NumberOfFollowups</th>\n",
       "      <th>ProductPitched</th>\n",
       "      <th>PreferredPropertyStar</th>\n",
       "      <th>MaritalStatus</th>\n",
       "      <th>NumberOfTrips</th>\n",
       "      <th>Passport</th>\n",
       "      <th>PitchSatisfactionScore</th>\n",
       "      <th>OwnCar</th>\n",
       "      <th>NumberOfChildrenVisiting</th>\n",
       "      <th>Designation</th>\n",
       "      <th>MonthlyIncome</th>\n",
       "    </tr>\n",
       "  </thead>\n",
       "  <tbody>\n",
       "    <tr>\n",
       "      <th>0</th>\n",
       "      <td>200000</td>\n",
       "      <td>1</td>\n",
       "      <td>41.0</td>\n",
       "      <td>Self Enquiry</td>\n",
       "      <td>3</td>\n",
       "      <td>6.0</td>\n",
       "      <td>Salaried</td>\n",
       "      <td>Female</td>\n",
       "      <td>3</td>\n",
       "      <td>3.0</td>\n",
       "      <td>Deluxe</td>\n",
       "      <td>3.0</td>\n",
       "      <td>Single</td>\n",
       "      <td>1.0</td>\n",
       "      <td>1</td>\n",
       "      <td>2</td>\n",
       "      <td>1</td>\n",
       "      <td>0.0</td>\n",
       "      <td>Manager</td>\n",
       "      <td>20993.0</td>\n",
       "    </tr>\n",
       "    <tr>\n",
       "      <th>1</th>\n",
       "      <td>200001</td>\n",
       "      <td>0</td>\n",
       "      <td>49.0</td>\n",
       "      <td>Company Invited</td>\n",
       "      <td>1</td>\n",
       "      <td>14.0</td>\n",
       "      <td>Salaried</td>\n",
       "      <td>Male</td>\n",
       "      <td>3</td>\n",
       "      <td>4.0</td>\n",
       "      <td>Deluxe</td>\n",
       "      <td>4.0</td>\n",
       "      <td>Divorced</td>\n",
       "      <td>2.0</td>\n",
       "      <td>0</td>\n",
       "      <td>3</td>\n",
       "      <td>1</td>\n",
       "      <td>2.0</td>\n",
       "      <td>Manager</td>\n",
       "      <td>20130.0</td>\n",
       "    </tr>\n",
       "    <tr>\n",
       "      <th>2</th>\n",
       "      <td>200002</td>\n",
       "      <td>1</td>\n",
       "      <td>37.0</td>\n",
       "      <td>Self Enquiry</td>\n",
       "      <td>1</td>\n",
       "      <td>8.0</td>\n",
       "      <td>Free Lancer</td>\n",
       "      <td>Male</td>\n",
       "      <td>3</td>\n",
       "      <td>4.0</td>\n",
       "      <td>Basic</td>\n",
       "      <td>3.0</td>\n",
       "      <td>Single</td>\n",
       "      <td>7.0</td>\n",
       "      <td>1</td>\n",
       "      <td>3</td>\n",
       "      <td>0</td>\n",
       "      <td>0.0</td>\n",
       "      <td>Executive</td>\n",
       "      <td>17090.0</td>\n",
       "    </tr>\n",
       "    <tr>\n",
       "      <th>3</th>\n",
       "      <td>200003</td>\n",
       "      <td>0</td>\n",
       "      <td>33.0</td>\n",
       "      <td>Company Invited</td>\n",
       "      <td>1</td>\n",
       "      <td>9.0</td>\n",
       "      <td>Salaried</td>\n",
       "      <td>Female</td>\n",
       "      <td>2</td>\n",
       "      <td>3.0</td>\n",
       "      <td>Basic</td>\n",
       "      <td>3.0</td>\n",
       "      <td>Divorced</td>\n",
       "      <td>2.0</td>\n",
       "      <td>1</td>\n",
       "      <td>5</td>\n",
       "      <td>1</td>\n",
       "      <td>1.0</td>\n",
       "      <td>Executive</td>\n",
       "      <td>17909.0</td>\n",
       "    </tr>\n",
       "    <tr>\n",
       "      <th>4</th>\n",
       "      <td>200004</td>\n",
       "      <td>0</td>\n",
       "      <td>NaN</td>\n",
       "      <td>Self Enquiry</td>\n",
       "      <td>1</td>\n",
       "      <td>8.0</td>\n",
       "      <td>Small Business</td>\n",
       "      <td>Male</td>\n",
       "      <td>2</td>\n",
       "      <td>3.0</td>\n",
       "      <td>Basic</td>\n",
       "      <td>4.0</td>\n",
       "      <td>Divorced</td>\n",
       "      <td>1.0</td>\n",
       "      <td>0</td>\n",
       "      <td>5</td>\n",
       "      <td>1</td>\n",
       "      <td>0.0</td>\n",
       "      <td>Executive</td>\n",
       "      <td>18468.0</td>\n",
       "    </tr>\n",
       "  </tbody>\n",
       "</table>\n",
       "</div>"
      ],
      "text/plain": [
       "   CustomerID  ProdTaken   Age    TypeofContact  CityTier  DurationOfPitch  \\\n",
       "0      200000          1  41.0     Self Enquiry         3              6.0   \n",
       "1      200001          0  49.0  Company Invited         1             14.0   \n",
       "2      200002          1  37.0     Self Enquiry         1              8.0   \n",
       "3      200003          0  33.0  Company Invited         1              9.0   \n",
       "4      200004          0   NaN     Self Enquiry         1              8.0   \n",
       "\n",
       "       Occupation  Gender  NumberOfPersonVisiting  NumberOfFollowups  \\\n",
       "0        Salaried  Female                       3                3.0   \n",
       "1        Salaried    Male                       3                4.0   \n",
       "2     Free Lancer    Male                       3                4.0   \n",
       "3        Salaried  Female                       2                3.0   \n",
       "4  Small Business    Male                       2                3.0   \n",
       "\n",
       "  ProductPitched  PreferredPropertyStar MaritalStatus  NumberOfTrips  \\\n",
       "0         Deluxe                    3.0        Single            1.0   \n",
       "1         Deluxe                    4.0      Divorced            2.0   \n",
       "2          Basic                    3.0        Single            7.0   \n",
       "3          Basic                    3.0      Divorced            2.0   \n",
       "4          Basic                    4.0      Divorced            1.0   \n",
       "\n",
       "   Passport  PitchSatisfactionScore  OwnCar  NumberOfChildrenVisiting  \\\n",
       "0         1                       2       1                       0.0   \n",
       "1         0                       3       1                       2.0   \n",
       "2         1                       3       0                       0.0   \n",
       "3         1                       5       1                       1.0   \n",
       "4         0                       5       1                       0.0   \n",
       "\n",
       "  Designation  MonthlyIncome  \n",
       "0     Manager        20993.0  \n",
       "1     Manager        20130.0  \n",
       "2   Executive        17090.0  \n",
       "3   Executive        17909.0  \n",
       "4   Executive        18468.0  "
      ]
     },
     "execution_count": 125,
     "metadata": {},
     "output_type": "execute_result"
    }
   ],
   "source": [
    "df.head()"
   ]
  },
  {
   "cell_type": "code",
   "execution_count": 126,
   "id": "44d4a987",
   "metadata": {},
   "outputs": [
    {
     "data": {
      "text/plain": [
       "CustomerID                    0\n",
       "ProdTaken                     0\n",
       "Age                         226\n",
       "TypeofContact                25\n",
       "CityTier                      0\n",
       "DurationOfPitch             251\n",
       "Occupation                    0\n",
       "Gender                        0\n",
       "NumberOfPersonVisiting        0\n",
       "NumberOfFollowups            45\n",
       "ProductPitched                0\n",
       "PreferredPropertyStar        26\n",
       "MaritalStatus                 0\n",
       "NumberOfTrips               140\n",
       "Passport                      0\n",
       "PitchSatisfactionScore        0\n",
       "OwnCar                        0\n",
       "NumberOfChildrenVisiting     66\n",
       "Designation                   0\n",
       "MonthlyIncome               233\n",
       "dtype: int64"
      ]
     },
     "execution_count": 126,
     "metadata": {},
     "output_type": "execute_result"
    }
   ],
   "source": [
    "df.isnull().sum()"
   ]
  },
  {
   "cell_type": "code",
   "execution_count": 127,
   "id": "1503021d",
   "metadata": {},
   "outputs": [
    {
     "data": {
      "text/plain": [
       "['Age',\n",
       " 'TypeofContact',\n",
       " 'DurationOfPitch',\n",
       " 'NumberOfFollowups',\n",
       " 'PreferredPropertyStar',\n",
       " 'NumberOfTrips',\n",
       " 'NumberOfChildrenVisiting',\n",
       " 'MonthlyIncome']"
      ]
     },
     "execution_count": 127,
     "metadata": {},
     "output_type": "execute_result"
    }
   ],
   "source": [
    "null_columns = [feature for feature in df.columns if df[feature].isnull().sum()>0]\n",
    "null_columns"
   ]
  },
  {
   "cell_type": "code",
   "execution_count": 128,
   "id": "1ae302d6",
   "metadata": {},
   "outputs": [],
   "source": [
    "features_null_percentage = [(feature,np.round(df[feature].isnull().mean()*100,5), \"% missing values\") for feature in df.columns if df[feature].isnull().sum()>0]"
   ]
  },
  {
   "cell_type": "code",
   "execution_count": 129,
   "id": "647e3648",
   "metadata": {},
   "outputs": [
    {
     "data": {
      "text/plain": [
       "[('Age', 4.62357, '% missing values'),\n",
       " ('TypeofContact', 0.51146, '% missing values'),\n",
       " ('DurationOfPitch', 5.13502, '% missing values'),\n",
       " ('NumberOfFollowups', 0.92062, '% missing values'),\n",
       " ('PreferredPropertyStar', 0.53191, '% missing values'),\n",
       " ('NumberOfTrips', 2.86416, '% missing values'),\n",
       " ('NumberOfChildrenVisiting', 1.35025, '% missing values'),\n",
       " ('MonthlyIncome', 4.76678, '% missing values')]"
      ]
     },
     "execution_count": 129,
     "metadata": {},
     "output_type": "execute_result"
    }
   ],
   "source": [
    "features_null_percentage"
   ]
  },
  {
   "cell_type": "code",
   "execution_count": 130,
   "id": "b3439ffd",
   "metadata": {},
   "outputs": [
    {
     "data": {
      "text/html": [
       "<div>\n",
       "<style scoped>\n",
       "    .dataframe tbody tr th:only-of-type {\n",
       "        vertical-align: middle;\n",
       "    }\n",
       "\n",
       "    .dataframe tbody tr th {\n",
       "        vertical-align: top;\n",
       "    }\n",
       "\n",
       "    .dataframe thead th {\n",
       "        text-align: right;\n",
       "    }\n",
       "</style>\n",
       "<table border=\"1\" class=\"dataframe\">\n",
       "  <thead>\n",
       "    <tr style=\"text-align: right;\">\n",
       "      <th></th>\n",
       "      <th>CustomerID</th>\n",
       "      <th>ProdTaken</th>\n",
       "      <th>Age</th>\n",
       "      <th>TypeofContact</th>\n",
       "      <th>CityTier</th>\n",
       "      <th>DurationOfPitch</th>\n",
       "      <th>Occupation</th>\n",
       "      <th>Gender</th>\n",
       "      <th>NumberOfPersonVisiting</th>\n",
       "      <th>NumberOfFollowups</th>\n",
       "      <th>ProductPitched</th>\n",
       "      <th>PreferredPropertyStar</th>\n",
       "      <th>MaritalStatus</th>\n",
       "      <th>NumberOfTrips</th>\n",
       "      <th>Passport</th>\n",
       "      <th>PitchSatisfactionScore</th>\n",
       "      <th>OwnCar</th>\n",
       "      <th>NumberOfChildrenVisiting</th>\n",
       "      <th>Designation</th>\n",
       "      <th>MonthlyIncome</th>\n",
       "    </tr>\n",
       "  </thead>\n",
       "  <tbody>\n",
       "    <tr>\n",
       "      <th>0</th>\n",
       "      <td>200000</td>\n",
       "      <td>1</td>\n",
       "      <td>41.0</td>\n",
       "      <td>Self Enquiry</td>\n",
       "      <td>3</td>\n",
       "      <td>6.0</td>\n",
       "      <td>Salaried</td>\n",
       "      <td>Female</td>\n",
       "      <td>3</td>\n",
       "      <td>3.0</td>\n",
       "      <td>Deluxe</td>\n",
       "      <td>3.0</td>\n",
       "      <td>Single</td>\n",
       "      <td>1.0</td>\n",
       "      <td>1</td>\n",
       "      <td>2</td>\n",
       "      <td>1</td>\n",
       "      <td>0.0</td>\n",
       "      <td>Manager</td>\n",
       "      <td>20993.0</td>\n",
       "    </tr>\n",
       "    <tr>\n",
       "      <th>1</th>\n",
       "      <td>200001</td>\n",
       "      <td>0</td>\n",
       "      <td>49.0</td>\n",
       "      <td>Company Invited</td>\n",
       "      <td>1</td>\n",
       "      <td>14.0</td>\n",
       "      <td>Salaried</td>\n",
       "      <td>Male</td>\n",
       "      <td>3</td>\n",
       "      <td>4.0</td>\n",
       "      <td>Deluxe</td>\n",
       "      <td>4.0</td>\n",
       "      <td>Divorced</td>\n",
       "      <td>2.0</td>\n",
       "      <td>0</td>\n",
       "      <td>3</td>\n",
       "      <td>1</td>\n",
       "      <td>2.0</td>\n",
       "      <td>Manager</td>\n",
       "      <td>20130.0</td>\n",
       "    </tr>\n",
       "  </tbody>\n",
       "</table>\n",
       "</div>"
      ],
      "text/plain": [
       "   CustomerID  ProdTaken   Age    TypeofContact  CityTier  DurationOfPitch  \\\n",
       "0      200000          1  41.0     Self Enquiry         3              6.0   \n",
       "1      200001          0  49.0  Company Invited         1             14.0   \n",
       "\n",
       "  Occupation  Gender  NumberOfPersonVisiting  NumberOfFollowups  \\\n",
       "0   Salaried  Female                       3                3.0   \n",
       "1   Salaried    Male                       3                4.0   \n",
       "\n",
       "  ProductPitched  PreferredPropertyStar MaritalStatus  NumberOfTrips  \\\n",
       "0         Deluxe                    3.0        Single            1.0   \n",
       "1         Deluxe                    4.0      Divorced            2.0   \n",
       "\n",
       "   Passport  PitchSatisfactionScore  OwnCar  NumberOfChildrenVisiting  \\\n",
       "0         1                       2       1                       0.0   \n",
       "1         0                       3       1                       2.0   \n",
       "\n",
       "  Designation  MonthlyIncome  \n",
       "0     Manager        20993.0  \n",
       "1     Manager        20130.0  "
      ]
     },
     "execution_count": 130,
     "metadata": {},
     "output_type": "execute_result"
    }
   ],
   "source": [
    "df.head(2)"
   ]
  },
  {
   "cell_type": "code",
   "execution_count": 131,
   "id": "2dd7163a",
   "metadata": {},
   "outputs": [],
   "source": [
    "\n",
    "df.Age.fillna(df.Age.median(), inplace=True)\n",
    "df.TypeofContact.fillna(df.TypeofContact.mode()[0], inplace=True)\n",
    "df.DurationOfPitch.fillna(df.DurationOfPitch.median(), inplace=True)\n",
    "df.NumberOfFollowups.fillna(df.NumberOfChildrenVisiting.median(), inplace=True)\n",
    "df.PreferredPropertyStar.fillna(df.PreferredPropertyStar.median(), inplace = True)\n",
    "df.NumberOfTrips.fillna(df.NumberOfTrips.median(),inplace=True)\n",
    "df.NumberOfChildrenVisiting.fillna(df.NumberOfChildrenVisiting.median(),inplace=True)\n",
    "df.MonthlyIncome.fillna(df.MonthlyIncome.median(), inplace=True)"
   ]
  },
  {
   "cell_type": "code",
   "execution_count": 132,
   "id": "8f751dd6",
   "metadata": {},
   "outputs": [
    {
     "data": {
      "text/plain": [
       "CustomerID                  0\n",
       "ProdTaken                   0\n",
       "Age                         0\n",
       "TypeofContact               0\n",
       "CityTier                    0\n",
       "DurationOfPitch             0\n",
       "Occupation                  0\n",
       "Gender                      0\n",
       "NumberOfPersonVisiting      0\n",
       "NumberOfFollowups           0\n",
       "ProductPitched              0\n",
       "PreferredPropertyStar       0\n",
       "MaritalStatus               0\n",
       "NumberOfTrips               0\n",
       "Passport                    0\n",
       "PitchSatisfactionScore      0\n",
       "OwnCar                      0\n",
       "NumberOfChildrenVisiting    0\n",
       "Designation                 0\n",
       "MonthlyIncome               0\n",
       "dtype: int64"
      ]
     },
     "execution_count": 132,
     "metadata": {},
     "output_type": "execute_result"
    }
   ],
   "source": [
    "df.isnull().sum()"
   ]
  },
  {
   "cell_type": "code",
   "execution_count": 133,
   "id": "00f2ad90",
   "metadata": {},
   "outputs": [],
   "source": [
    "num_features = [feature for feature in df.columns if df[feature].dtype != 'O']\n",
    "cat_features = [feature for feature in df.columns if df[feature].dtype == 'O']\n"
   ]
  },
  {
   "cell_type": "code",
   "execution_count": 134,
   "id": "fa0eec28",
   "metadata": {},
   "outputs": [],
   "source": [
    "discrete_features = [feature for feature in num_features if len(df[feature].unique())>25]\n",
    "continous_features = [feature for feature in num_features if feature not in discrete_features]"
   ]
  },
  {
   "cell_type": "code",
   "execution_count": 135,
   "id": "585bee97",
   "metadata": {},
   "outputs": [
    {
     "name": "stdout",
     "output_type": "stream",
     "text": [
      "['CustomerID', 'ProdTaken', 'Age', 'CityTier', 'DurationOfPitch', 'NumberOfPersonVisiting', 'NumberOfFollowups', 'PreferredPropertyStar', 'NumberOfTrips', 'Passport', 'PitchSatisfactionScore', 'OwnCar', 'NumberOfChildrenVisiting', 'MonthlyIncome']\n",
      "['TypeofContact', 'Occupation', 'Gender', 'ProductPitched', 'MaritalStatus', 'Designation']\n",
      "['CustomerID', 'Age', 'DurationOfPitch', 'MonthlyIncome']\n",
      "['ProdTaken', 'CityTier', 'NumberOfPersonVisiting', 'NumberOfFollowups', 'PreferredPropertyStar', 'NumberOfTrips', 'Passport', 'PitchSatisfactionScore', 'OwnCar', 'NumberOfChildrenVisiting']\n"
     ]
    }
   ],
   "source": [
    "print(num_features)\n",
    "print(cat_features)\n",
    "print(discrete_features)\n",
    "print(continous_features)"
   ]
  },
  {
   "cell_type": "code",
   "execution_count": 136,
   "id": "144fdf5d",
   "metadata": {},
   "outputs": [],
   "source": [
    "df.drop('CustomerID',axis=1,inplace=True)"
   ]
  },
  {
   "cell_type": "code",
   "execution_count": 137,
   "id": "b108c957",
   "metadata": {},
   "outputs": [
    {
     "name": "stdout",
     "output_type": "stream",
     "text": [
      "TypeofContact\n",
      "Self Enquiry       3469\n",
      "Company Invited    1419\n",
      "Name: count, dtype: int64\n",
      "=============================\n",
      "Occupation\n",
      "Salaried          2368\n",
      "Small Business    2084\n",
      "Large Business     434\n",
      "Free Lancer          2\n",
      "Name: count, dtype: int64\n",
      "=============================\n",
      "Gender\n",
      "Male       2916\n",
      "Female     1817\n",
      "Fe Male     155\n",
      "Name: count, dtype: int64\n",
      "=============================\n",
      "ProductPitched\n",
      "Basic           1842\n",
      "Deluxe          1732\n",
      "Standard         742\n",
      "Super Deluxe     342\n",
      "King             230\n",
      "Name: count, dtype: int64\n",
      "=============================\n",
      "MaritalStatus\n",
      "Married      2340\n",
      "Divorced      950\n",
      "Single        916\n",
      "Unmarried     682\n",
      "Name: count, dtype: int64\n",
      "=============================\n",
      "Designation\n",
      "Executive         1842\n",
      "Manager           1732\n",
      "Senior Manager     742\n",
      "AVP                342\n",
      "VP                 230\n",
      "Name: count, dtype: int64\n",
      "=============================\n"
     ]
    }
   ],
   "source": [
    "for i in cat_features:\n",
    "    print(df[i].value_counts())\n",
    "    print(\"=============================\")"
   ]
  },
  {
   "cell_type": "code",
   "execution_count": 138,
   "id": "4105c589",
   "metadata": {},
   "outputs": [],
   "source": [
    "df['Gender'] = df['Gender'].str.replace(\"Fe Male\",\"Female\")"
   ]
  },
  {
   "cell_type": "code",
   "execution_count": 139,
   "id": "c76e2723",
   "metadata": {},
   "outputs": [
    {
     "data": {
      "text/plain": [
       "Gender\n",
       "Male      2916\n",
       "Female    1972\n",
       "Name: count, dtype: int64"
      ]
     },
     "execution_count": 139,
     "metadata": {},
     "output_type": "execute_result"
    }
   ],
   "source": [
    "df['Gender'].value_counts()"
   ]
  },
  {
   "cell_type": "code",
   "execution_count": 140,
   "id": "36f6f875",
   "metadata": {},
   "outputs": [],
   "source": [
    "from sklearn.preprocessing import LabelEncoder\n",
    "le = LabelEncoder()\n",
    "df['Gender'] = le.fit_transform(df['Gender'])\n"
   ]
  },
  {
   "cell_type": "code",
   "execution_count": 141,
   "id": "b81852cc",
   "metadata": {},
   "outputs": [],
   "source": [
    "cat_features = [feature for feature in df.columns if df[feature].dtype == 'O']"
   ]
  },
  {
   "cell_type": "code",
   "execution_count": 142,
   "id": "b15567bb",
   "metadata": {},
   "outputs": [
    {
     "data": {
      "text/plain": [
       "['TypeofContact',\n",
       " 'Occupation',\n",
       " 'ProductPitched',\n",
       " 'MaritalStatus',\n",
       " 'Designation']"
      ]
     },
     "execution_count": 142,
     "metadata": {},
     "output_type": "execute_result"
    }
   ],
   "source": [
    "cat_features"
   ]
  },
  {
   "cell_type": "code",
   "execution_count": 143,
   "id": "6e9dc2d3",
   "metadata": {},
   "outputs": [
    {
     "data": {
      "text/plain": [
       "Gender\n",
       "1    2916\n",
       "0    1972\n",
       "Name: count, dtype: int64"
      ]
     },
     "execution_count": 143,
     "metadata": {},
     "output_type": "execute_result"
    }
   ],
   "source": [
    "df['Gender'].value_counts()"
   ]
  },
  {
   "cell_type": "code",
   "execution_count": 144,
   "id": "c00ba762",
   "metadata": {},
   "outputs": [],
   "source": [
    "df['Totalvisiter'] = df['NumberOfChildrenVisiting'] + df['NumberOfPersonVisiting']\n",
    "df.drop(columns=['NumberOfChildrenVisiting','NumberOfPersonVisiting'],axis=1,inplace=True)"
   ]
  },
  {
   "cell_type": "code",
   "execution_count": 145,
   "id": "9b6e31ea",
   "metadata": {},
   "outputs": [
    {
     "data": {
      "text/plain": [
       "['ProdTaken',\n",
       " 'Age',\n",
       " 'CityTier',\n",
       " 'DurationOfPitch',\n",
       " 'Gender',\n",
       " 'NumberOfFollowups',\n",
       " 'PreferredPropertyStar',\n",
       " 'NumberOfTrips',\n",
       " 'Passport',\n",
       " 'PitchSatisfactionScore',\n",
       " 'OwnCar',\n",
       " 'MonthlyIncome',\n",
       " 'Totalvisiter']"
      ]
     },
     "execution_count": 145,
     "metadata": {},
     "output_type": "execute_result"
    }
   ],
   "source": [
    "num_features = [feature for feature in df.columns if df[feature].dtype != 'O']\n",
    "num_features"
   ]
  },
  {
   "cell_type": "code",
   "execution_count": 146,
   "id": "6b954d23",
   "metadata": {},
   "outputs": [],
   "source": [
    "from sklearn.model_selection import train_test_split\n",
    "x = df.drop('ProdTaken',axis=1)\n",
    "y = df['ProdTaken']"
   ]
  },
  {
   "cell_type": "code",
   "execution_count": 147,
   "id": "3c7e5256",
   "metadata": {},
   "outputs": [
    {
     "data": {
      "text/html": [
       "<div>\n",
       "<style scoped>\n",
       "    .dataframe tbody tr th:only-of-type {\n",
       "        vertical-align: middle;\n",
       "    }\n",
       "\n",
       "    .dataframe tbody tr th {\n",
       "        vertical-align: top;\n",
       "    }\n",
       "\n",
       "    .dataframe thead th {\n",
       "        text-align: right;\n",
       "    }\n",
       "</style>\n",
       "<table border=\"1\" class=\"dataframe\">\n",
       "  <thead>\n",
       "    <tr style=\"text-align: right;\">\n",
       "      <th></th>\n",
       "      <th>Age</th>\n",
       "      <th>TypeofContact</th>\n",
       "      <th>CityTier</th>\n",
       "      <th>DurationOfPitch</th>\n",
       "      <th>Occupation</th>\n",
       "      <th>Gender</th>\n",
       "      <th>NumberOfFollowups</th>\n",
       "      <th>ProductPitched</th>\n",
       "      <th>PreferredPropertyStar</th>\n",
       "      <th>MaritalStatus</th>\n",
       "      <th>NumberOfTrips</th>\n",
       "      <th>Passport</th>\n",
       "      <th>PitchSatisfactionScore</th>\n",
       "      <th>OwnCar</th>\n",
       "      <th>Designation</th>\n",
       "      <th>MonthlyIncome</th>\n",
       "      <th>Totalvisiter</th>\n",
       "    </tr>\n",
       "  </thead>\n",
       "  <tbody>\n",
       "    <tr>\n",
       "      <th>0</th>\n",
       "      <td>41.0</td>\n",
       "      <td>Self Enquiry</td>\n",
       "      <td>3</td>\n",
       "      <td>6.0</td>\n",
       "      <td>Salaried</td>\n",
       "      <td>0</td>\n",
       "      <td>3.0</td>\n",
       "      <td>Deluxe</td>\n",
       "      <td>3.0</td>\n",
       "      <td>Single</td>\n",
       "      <td>1.0</td>\n",
       "      <td>1</td>\n",
       "      <td>2</td>\n",
       "      <td>1</td>\n",
       "      <td>Manager</td>\n",
       "      <td>20993.0</td>\n",
       "      <td>3.0</td>\n",
       "    </tr>\n",
       "    <tr>\n",
       "      <th>1</th>\n",
       "      <td>49.0</td>\n",
       "      <td>Company Invited</td>\n",
       "      <td>1</td>\n",
       "      <td>14.0</td>\n",
       "      <td>Salaried</td>\n",
       "      <td>1</td>\n",
       "      <td>4.0</td>\n",
       "      <td>Deluxe</td>\n",
       "      <td>4.0</td>\n",
       "      <td>Divorced</td>\n",
       "      <td>2.0</td>\n",
       "      <td>0</td>\n",
       "      <td>3</td>\n",
       "      <td>1</td>\n",
       "      <td>Manager</td>\n",
       "      <td>20130.0</td>\n",
       "      <td>5.0</td>\n",
       "    </tr>\n",
       "    <tr>\n",
       "      <th>2</th>\n",
       "      <td>37.0</td>\n",
       "      <td>Self Enquiry</td>\n",
       "      <td>1</td>\n",
       "      <td>8.0</td>\n",
       "      <td>Free Lancer</td>\n",
       "      <td>1</td>\n",
       "      <td>4.0</td>\n",
       "      <td>Basic</td>\n",
       "      <td>3.0</td>\n",
       "      <td>Single</td>\n",
       "      <td>7.0</td>\n",
       "      <td>1</td>\n",
       "      <td>3</td>\n",
       "      <td>0</td>\n",
       "      <td>Executive</td>\n",
       "      <td>17090.0</td>\n",
       "      <td>3.0</td>\n",
       "    </tr>\n",
       "    <tr>\n",
       "      <th>3</th>\n",
       "      <td>33.0</td>\n",
       "      <td>Company Invited</td>\n",
       "      <td>1</td>\n",
       "      <td>9.0</td>\n",
       "      <td>Salaried</td>\n",
       "      <td>0</td>\n",
       "      <td>3.0</td>\n",
       "      <td>Basic</td>\n",
       "      <td>3.0</td>\n",
       "      <td>Divorced</td>\n",
       "      <td>2.0</td>\n",
       "      <td>1</td>\n",
       "      <td>5</td>\n",
       "      <td>1</td>\n",
       "      <td>Executive</td>\n",
       "      <td>17909.0</td>\n",
       "      <td>3.0</td>\n",
       "    </tr>\n",
       "    <tr>\n",
       "      <th>4</th>\n",
       "      <td>36.0</td>\n",
       "      <td>Self Enquiry</td>\n",
       "      <td>1</td>\n",
       "      <td>8.0</td>\n",
       "      <td>Small Business</td>\n",
       "      <td>1</td>\n",
       "      <td>3.0</td>\n",
       "      <td>Basic</td>\n",
       "      <td>4.0</td>\n",
       "      <td>Divorced</td>\n",
       "      <td>1.0</td>\n",
       "      <td>0</td>\n",
       "      <td>5</td>\n",
       "      <td>1</td>\n",
       "      <td>Executive</td>\n",
       "      <td>18468.0</td>\n",
       "      <td>2.0</td>\n",
       "    </tr>\n",
       "    <tr>\n",
       "      <th>...</th>\n",
       "      <td>...</td>\n",
       "      <td>...</td>\n",
       "      <td>...</td>\n",
       "      <td>...</td>\n",
       "      <td>...</td>\n",
       "      <td>...</td>\n",
       "      <td>...</td>\n",
       "      <td>...</td>\n",
       "      <td>...</td>\n",
       "      <td>...</td>\n",
       "      <td>...</td>\n",
       "      <td>...</td>\n",
       "      <td>...</td>\n",
       "      <td>...</td>\n",
       "      <td>...</td>\n",
       "      <td>...</td>\n",
       "      <td>...</td>\n",
       "    </tr>\n",
       "    <tr>\n",
       "      <th>4883</th>\n",
       "      <td>49.0</td>\n",
       "      <td>Self Enquiry</td>\n",
       "      <td>3</td>\n",
       "      <td>9.0</td>\n",
       "      <td>Small Business</td>\n",
       "      <td>1</td>\n",
       "      <td>5.0</td>\n",
       "      <td>Deluxe</td>\n",
       "      <td>4.0</td>\n",
       "      <td>Unmarried</td>\n",
       "      <td>2.0</td>\n",
       "      <td>1</td>\n",
       "      <td>1</td>\n",
       "      <td>1</td>\n",
       "      <td>Manager</td>\n",
       "      <td>26576.0</td>\n",
       "      <td>4.0</td>\n",
       "    </tr>\n",
       "    <tr>\n",
       "      <th>4884</th>\n",
       "      <td>28.0</td>\n",
       "      <td>Company Invited</td>\n",
       "      <td>1</td>\n",
       "      <td>31.0</td>\n",
       "      <td>Salaried</td>\n",
       "      <td>1</td>\n",
       "      <td>5.0</td>\n",
       "      <td>Basic</td>\n",
       "      <td>3.0</td>\n",
       "      <td>Single</td>\n",
       "      <td>3.0</td>\n",
       "      <td>1</td>\n",
       "      <td>3</td>\n",
       "      <td>1</td>\n",
       "      <td>Executive</td>\n",
       "      <td>21212.0</td>\n",
       "      <td>6.0</td>\n",
       "    </tr>\n",
       "    <tr>\n",
       "      <th>4885</th>\n",
       "      <td>52.0</td>\n",
       "      <td>Self Enquiry</td>\n",
       "      <td>3</td>\n",
       "      <td>17.0</td>\n",
       "      <td>Salaried</td>\n",
       "      <td>0</td>\n",
       "      <td>4.0</td>\n",
       "      <td>Standard</td>\n",
       "      <td>4.0</td>\n",
       "      <td>Married</td>\n",
       "      <td>7.0</td>\n",
       "      <td>0</td>\n",
       "      <td>1</td>\n",
       "      <td>1</td>\n",
       "      <td>Senior Manager</td>\n",
       "      <td>31820.0</td>\n",
       "      <td>7.0</td>\n",
       "    </tr>\n",
       "    <tr>\n",
       "      <th>4886</th>\n",
       "      <td>19.0</td>\n",
       "      <td>Self Enquiry</td>\n",
       "      <td>3</td>\n",
       "      <td>16.0</td>\n",
       "      <td>Small Business</td>\n",
       "      <td>1</td>\n",
       "      <td>4.0</td>\n",
       "      <td>Basic</td>\n",
       "      <td>3.0</td>\n",
       "      <td>Single</td>\n",
       "      <td>3.0</td>\n",
       "      <td>0</td>\n",
       "      <td>5</td>\n",
       "      <td>0</td>\n",
       "      <td>Executive</td>\n",
       "      <td>20289.0</td>\n",
       "      <td>5.0</td>\n",
       "    </tr>\n",
       "    <tr>\n",
       "      <th>4887</th>\n",
       "      <td>36.0</td>\n",
       "      <td>Self Enquiry</td>\n",
       "      <td>1</td>\n",
       "      <td>14.0</td>\n",
       "      <td>Salaried</td>\n",
       "      <td>1</td>\n",
       "      <td>4.0</td>\n",
       "      <td>Basic</td>\n",
       "      <td>4.0</td>\n",
       "      <td>Unmarried</td>\n",
       "      <td>3.0</td>\n",
       "      <td>1</td>\n",
       "      <td>3</td>\n",
       "      <td>1</td>\n",
       "      <td>Executive</td>\n",
       "      <td>24041.0</td>\n",
       "      <td>6.0</td>\n",
       "    </tr>\n",
       "  </tbody>\n",
       "</table>\n",
       "<p>4888 rows × 17 columns</p>\n",
       "</div>"
      ],
      "text/plain": [
       "       Age    TypeofContact  CityTier  DurationOfPitch      Occupation  \\\n",
       "0     41.0     Self Enquiry         3              6.0        Salaried   \n",
       "1     49.0  Company Invited         1             14.0        Salaried   \n",
       "2     37.0     Self Enquiry         1              8.0     Free Lancer   \n",
       "3     33.0  Company Invited         1              9.0        Salaried   \n",
       "4     36.0     Self Enquiry         1              8.0  Small Business   \n",
       "...    ...              ...       ...              ...             ...   \n",
       "4883  49.0     Self Enquiry         3              9.0  Small Business   \n",
       "4884  28.0  Company Invited         1             31.0        Salaried   \n",
       "4885  52.0     Self Enquiry         3             17.0        Salaried   \n",
       "4886  19.0     Self Enquiry         3             16.0  Small Business   \n",
       "4887  36.0     Self Enquiry         1             14.0        Salaried   \n",
       "\n",
       "      Gender  NumberOfFollowups ProductPitched  PreferredPropertyStar  \\\n",
       "0          0                3.0         Deluxe                    3.0   \n",
       "1          1                4.0         Deluxe                    4.0   \n",
       "2          1                4.0          Basic                    3.0   \n",
       "3          0                3.0          Basic                    3.0   \n",
       "4          1                3.0          Basic                    4.0   \n",
       "...      ...                ...            ...                    ...   \n",
       "4883       1                5.0         Deluxe                    4.0   \n",
       "4884       1                5.0          Basic                    3.0   \n",
       "4885       0                4.0       Standard                    4.0   \n",
       "4886       1                4.0          Basic                    3.0   \n",
       "4887       1                4.0          Basic                    4.0   \n",
       "\n",
       "     MaritalStatus  NumberOfTrips  Passport  PitchSatisfactionScore  OwnCar  \\\n",
       "0           Single            1.0         1                       2       1   \n",
       "1         Divorced            2.0         0                       3       1   \n",
       "2           Single            7.0         1                       3       0   \n",
       "3         Divorced            2.0         1                       5       1   \n",
       "4         Divorced            1.0         0                       5       1   \n",
       "...            ...            ...       ...                     ...     ...   \n",
       "4883     Unmarried            2.0         1                       1       1   \n",
       "4884        Single            3.0         1                       3       1   \n",
       "4885       Married            7.0         0                       1       1   \n",
       "4886        Single            3.0         0                       5       0   \n",
       "4887     Unmarried            3.0         1                       3       1   \n",
       "\n",
       "         Designation  MonthlyIncome  Totalvisiter  \n",
       "0            Manager        20993.0           3.0  \n",
       "1            Manager        20130.0           5.0  \n",
       "2          Executive        17090.0           3.0  \n",
       "3          Executive        17909.0           3.0  \n",
       "4          Executive        18468.0           2.0  \n",
       "...              ...            ...           ...  \n",
       "4883         Manager        26576.0           4.0  \n",
       "4884       Executive        21212.0           6.0  \n",
       "4885  Senior Manager        31820.0           7.0  \n",
       "4886       Executive        20289.0           5.0  \n",
       "4887       Executive        24041.0           6.0  \n",
       "\n",
       "[4888 rows x 17 columns]"
      ]
     },
     "execution_count": 147,
     "metadata": {},
     "output_type": "execute_result"
    }
   ],
   "source": [
    "x"
   ]
  },
  {
   "cell_type": "code",
   "execution_count": 148,
   "id": "e0720a26",
   "metadata": {},
   "outputs": [
    {
     "data": {
      "text/plain": [
       "0       1\n",
       "1       0\n",
       "2       1\n",
       "3       0\n",
       "4       0\n",
       "       ..\n",
       "4883    1\n",
       "4884    1\n",
       "4885    1\n",
       "4886    1\n",
       "4887    1\n",
       "Name: ProdTaken, Length: 4888, dtype: int64"
      ]
     },
     "execution_count": 148,
     "metadata": {},
     "output_type": "execute_result"
    }
   ],
   "source": [
    "y"
   ]
  },
  {
   "cell_type": "code",
   "execution_count": 149,
   "id": "58deb967",
   "metadata": {},
   "outputs": [],
   "source": [
    "numeric_x = [feature for feature in x.columns if x[feature].dtype != 'O']\n",
    "cat_x = [feature for feature in x.columns if x[feature].dtype == 'O']"
   ]
  },
  {
   "cell_type": "code",
   "execution_count": 150,
   "id": "a9f61410",
   "metadata": {},
   "outputs": [
    {
     "data": {
      "text/plain": [
       "(['Age',\n",
       "  'CityTier',\n",
       "  'DurationOfPitch',\n",
       "  'Gender',\n",
       "  'NumberOfFollowups',\n",
       "  'PreferredPropertyStar',\n",
       "  'NumberOfTrips',\n",
       "  'Passport',\n",
       "  'PitchSatisfactionScore',\n",
       "  'OwnCar',\n",
       "  'MonthlyIncome',\n",
       "  'Totalvisiter'],\n",
       " ['TypeofContact',\n",
       "  'Occupation',\n",
       "  'ProductPitched',\n",
       "  'MaritalStatus',\n",
       "  'Designation'])"
      ]
     },
     "execution_count": 150,
     "metadata": {},
     "output_type": "execute_result"
    }
   ],
   "source": [
    "numeric_x , cat_x"
   ]
  },
  {
   "cell_type": "code",
   "execution_count": 151,
   "id": "a7be24f7",
   "metadata": {},
   "outputs": [
    {
     "data": {
      "text/plain": [
       "Age                       0\n",
       "TypeofContact             0\n",
       "CityTier                  0\n",
       "DurationOfPitch           0\n",
       "Occupation                0\n",
       "Gender                    0\n",
       "NumberOfFollowups         0\n",
       "ProductPitched            0\n",
       "PreferredPropertyStar     0\n",
       "MaritalStatus             0\n",
       "NumberOfTrips             0\n",
       "Passport                  0\n",
       "PitchSatisfactionScore    0\n",
       "OwnCar                    0\n",
       "Designation               0\n",
       "MonthlyIncome             0\n",
       "Totalvisiter              0\n",
       "dtype: int64"
      ]
     },
     "execution_count": 151,
     "metadata": {},
     "output_type": "execute_result"
    }
   ],
   "source": [
    "x.isnull().sum()"
   ]
  },
  {
   "cell_type": "code",
   "execution_count": 152,
   "id": "884c56fe",
   "metadata": {},
   "outputs": [],
   "source": [
    "x_train,x_test,y_train,y_test = train_test_split(x,y,test_size=0.2,random_state=42)"
   ]
  },
  {
   "cell_type": "code",
   "execution_count": 153,
   "id": "1808d9b8",
   "metadata": {},
   "outputs": [],
   "source": [
    "from sklearn.preprocessing import OneHotEncoder,StandardScaler\n",
    "from sklearn.compose import ColumnTransformer\n",
    "\n",
    "processor = ColumnTransformer(\n",
    "    [\n",
    "        ('OneHotEncoder',OneHotEncoder(drop='first'),cat_x),\n",
    "        ('scaler',StandardScaler(),numeric_x)\n",
    "    ],remainder = 'passthrough'\n",
    ")"
   ]
  },
  {
   "cell_type": "code",
   "execution_count": 154,
   "id": "b757e036",
   "metadata": {},
   "outputs": [],
   "source": [
    "x_train = processor.fit_transform(x_train)"
   ]
  },
  {
   "cell_type": "code",
   "execution_count": 155,
   "id": "22c245d7",
   "metadata": {},
   "outputs": [],
   "source": [
    "x_test = processor.transform(x_test)"
   ]
  },
  {
   "cell_type": "code",
   "execution_count": 156,
   "id": "5735bf7d",
   "metadata": {},
   "outputs": [
    {
     "data": {
      "text/plain": [
       "0     0\n",
       "1     0\n",
       "2     0\n",
       "3     0\n",
       "4     0\n",
       "5     0\n",
       "6     0\n",
       "7     0\n",
       "8     0\n",
       "9     0\n",
       "10    0\n",
       "11    0\n",
       "12    0\n",
       "13    0\n",
       "14    0\n",
       "15    0\n",
       "16    0\n",
       "17    0\n",
       "18    0\n",
       "19    0\n",
       "20    0\n",
       "21    0\n",
       "22    0\n",
       "23    0\n",
       "24    0\n",
       "25    0\n",
       "26    0\n",
       "dtype: int64"
      ]
     },
     "execution_count": 156,
     "metadata": {},
     "output_type": "execute_result"
    }
   ],
   "source": [
    "pd.DataFrame(x_train).isnull().sum()"
   ]
  },
  {
   "cell_type": "code",
   "execution_count": 157,
   "id": "58639ead",
   "metadata": {},
   "outputs": [],
   "source": [
    "from sklearn.ensemble import RandomForestClassifier\n",
    "from sklearn.ensemble import GradientBoostingClassifier\n",
    "from sklearn.linear_model import LogisticRegression\n",
    "from sklearn.tree import DecisionTreeClassifier\n",
    "from sklearn.metrics import classification_report,ConfusionMatrixDisplay,f1_score,accuracy_score,precision_score,recall_score,roc_auc_score\n"
   ]
  },
  {
   "cell_type": "code",
   "execution_count": 158,
   "id": "a8571dc9",
   "metadata": {},
   "outputs": [],
   "source": [
    "def estimator(true,predict):\n",
    "    acc = accuracy_score(true,predict)\n",
    "    f1= f1_score(true,predict,average='weighted')\n",
    "    pre_score = precision_score(true,predict)\n",
    "    recall = recall_score(true,predict)\n",
    "    roc = roc_auc_score(true,predict)\n",
    "    return {'accurancy : ': acc ,'f1_score' : f1,'precision_score' : pre_score,'recall_score':recall,'roc_auc_score':roc}"
   ]
  },
  {
   "cell_type": "code",
   "execution_count": 163,
   "id": "1770bd12",
   "metadata": {},
   "outputs": [
    {
     "name": "stdout",
     "output_type": "stream",
     "text": [
      "The model is :  RandomForestClasifier\n",
      "accurancy :   : 1.0\n",
      "f1_score  : 1.0\n",
      "precision_score  : 1.0\n",
      "recall_score  : 1.0\n",
      "roc_auc_score  : 1.0\n",
      "\n",
      "accurancy :   : 0.9212678936605317\n",
      "f1_score  : 0.9142429846178383\n",
      "precision_score  : 0.9672131147540983\n",
      "recall_score  : 0.6178010471204188\n",
      "roc_auc_score  : 0.8063592274992183\n",
      "============================================\n",
      "The model is :  GradientBoosting\n",
      "accurancy :   : 0.889769820971867\n",
      "f1_score  : 0.8767480890758947\n",
      "precision_score  : 0.8669950738916257\n",
      "recall_score  : 0.4828532235939643\n",
      "roc_auc_score  : 0.732938714909211\n",
      "\n",
      "accurancy :   : 0.8548057259713702\n",
      "f1_score  : 0.8333988068995571\n",
      "precision_score  : 0.7692307692307693\n",
      "recall_score  : 0.36649214659685864\n",
      "roc_auc_score  : 0.669904268978226\n",
      "============================================\n",
      "The model is :  LogisticRegression\n",
      "accurancy :   : 0.8452685421994884\n",
      "f1_score  : 0.8201427749048084\n",
      "precision_score  : 0.691358024691358\n",
      "recall_score  : 0.30727023319615915\n",
      "roc_auc_score  : 0.6379167890281331\n",
      "\n",
      "accurancy :   : 0.8374233128834356\n",
      "f1_score  : 0.8109689708108703\n",
      "precision_score  : 0.6904761904761905\n",
      "recall_score  : 0.3036649214659686\n",
      "roc_auc_score  : 0.635314036336542\n",
      "============================================\n",
      "The model is :  DecisionTreeClassifier\n",
      "accurancy :   : 1.0\n",
      "f1_score  : 1.0\n",
      "precision_score  : 1.0\n",
      "recall_score  : 1.0\n",
      "roc_auc_score  : 1.0\n",
      "\n",
      "accurancy :   : 0.901840490797546\n",
      "f1_score  : 0.9006200624223354\n",
      "precision_score  : 0.7653631284916201\n",
      "recall_score  : 0.7172774869109948\n",
      "roc_auc_score  : 0.8319551348150909\n",
      "============================================\n"
     ]
    }
   ],
   "source": [
    "models  = {\n",
    "    'RandomForestClasifier' : RandomForestClassifier(),\n",
    "    'GradientBoosting' : GradientBoostingClassifier(),\n",
    "    'LogisticRegression' : LogisticRegression(),\n",
    "    'DecisionTreeClassifier' : DecisionTreeClassifier()\n",
    "}\n",
    "\n",
    "for i in range(len(list(models))):\n",
    "    model = list(models.values())[i]\n",
    "    model.fit(x_train,y_train)\n",
    "\n",
    "    y_train_pred = model.predict(x_train)\n",
    "    y_test_pred = model.predict(x_test)\n",
    "\n",
    "    est1 = estimator(y_train,y_train_pred)\n",
    "    est2 = estimator(y_test,y_test_pred)\n",
    "    print(\"The model is : \", list(models.keys())[i])\n",
    "    for key,value in est1.items():\n",
    "        print(f\"{key}  : {value}\")\n",
    "    \n",
    "    print()\n",
    "\n",
    "    for key,value in est2.items():\n",
    "        print(f\"{key}  : {value}\")\n",
    "\n",
    "\n",
    "    print(\"============================================\")"
   ]
  },
  {
   "cell_type": "code",
   "execution_count": 164,
   "id": "eb7970dd",
   "metadata": {},
   "outputs": [],
   "source": [
    "rf_params = {\"max_depth\": [5, 8, 15, None, 10],\n",
    "             \"max_features\": [5, 7, \"auto\", 8],\n",
    "             \"min_samples_split\": [2, 8, 15, 20],\n",
    "             \"n_estimators\": [100, 200, 500, 1000]}"
   ]
  },
  {
   "cell_type": "code",
   "execution_count": 165,
   "id": "44a279ae",
   "metadata": {},
   "outputs": [
    {
     "data": {
      "text/plain": [
       "{'max_depth': [5, 8, 15, None, 10],\n",
       " 'max_features': [5, 7, 'auto', 8],\n",
       " 'min_samples_split': [2, 8, 15, 20],\n",
       " 'n_estimators': [100, 200, 500, 1000]}"
      ]
     },
     "execution_count": 165,
     "metadata": {},
     "output_type": "execute_result"
    }
   ],
   "source": [
    "rf_params"
   ]
  },
  {
   "cell_type": "code",
   "execution_count": 168,
   "id": "76eeb929",
   "metadata": {},
   "outputs": [],
   "source": [
    "auc_models = [\n",
    "    ('rf',RandomForestClassifier(),rf_params)\n",
    "]"
   ]
  },
  {
   "cell_type": "code",
   "execution_count": 169,
   "id": "b1523598",
   "metadata": {},
   "outputs": [
    {
     "name": "stdout",
     "output_type": "stream",
     "text": [
      "Fitting 3 folds for each of 100 candidates, totalling 300 fits\n",
      "The best parameter is rf -------------\n",
      "{'n_estimators': 100, 'min_samples_split': 2, 'max_features': 7, 'max_depth': None}\n"
     ]
    }
   ],
   "source": [
    "from sklearn.model_selection import RandomizedSearchCV\n",
    "best_model = {}\n",
    "for name,model,params in auc_models:\n",
    "    random = RandomizedSearchCV(\n",
    "        estimator= model,\n",
    "        param_distributions=params,\n",
    "        cv = 3,\n",
    "        n_iter=100,\n",
    "        n_jobs=-1,\n",
    "        verbose=2\n",
    "\n",
    "    )\n",
    "\n",
    "    random.fit(x_train,y_train)\n",
    "\n",
    "    best_model[name] = random.best_params_\n",
    "\n",
    "for model_name in best_model:\n",
    "    print(f\"The best parameter is {model_name} -------------\")\n",
    "\n",
    "    print(best_model[model_name])"
   ]
  },
  {
   "cell_type": "code",
   "execution_count": 175,
   "id": "f2038e59",
   "metadata": {},
   "outputs": [],
   "source": [
    "selected_models = {\n",
    "    'RandomForestClassifier':RandomForestClassifier()\n",
    "}"
   ]
  },
  {
   "cell_type": "code",
   "execution_count": 176,
   "id": "fce588da",
   "metadata": {},
   "outputs": [
    {
     "name": "stdout",
     "output_type": "stream",
     "text": [
      "The model is :  RandomForestClassifier\n",
      "accurancy :   : 1.0\n",
      "f1_score  : 1.0\n",
      "precision_score  : 1.0\n",
      "recall_score  : 1.0\n",
      "roc_auc_score  : 1.0\n",
      "\n",
      "accurancy :   : 0.9192229038854806\n",
      "f1_score  : 0.9122813382770091\n",
      "precision_score  : 0.9516129032258065\n",
      "recall_score  : 0.6178010471204188\n",
      "roc_auc_score  : 0.8050885794687227\n",
      "============================================\n"
     ]
    }
   ],
   "source": [
    "for i in range(len(list(selected_models))):\n",
    "    smodel = list(selected_models.values())[i]\n",
    "\n",
    "    smodel.fit(x_train,y_train)\n",
    "    sy_train_pred = smodel.predict(x_train)\n",
    "    sy_test_pred = smodel.predict(x_test)\n",
    "\n",
    "    sest1 = estimator(y_train,sy_train_pred)\n",
    "    sest2 = estimator(y_test,sy_test_pred)\n",
    "\n",
    "    print(\"The model is : \", list(selected_models.keys())[i])\n",
    "    for key,value in sest1.items():\n",
    "        print(f\"{key}  : {value}\")\n",
    "    \n",
    "    print()\n",
    "\n",
    "    for key,value in sest2.items():\n",
    "        print(f\"{key}  : {value}\")\n",
    "\n",
    "\n",
    "    print(\"============================================\")"
   ]
  },
  {
   "cell_type": "code",
   "execution_count": 189,
   "id": "115c12de",
   "metadata": {},
   "outputs": [
    {
     "data": {
      "text/plain": [
       "<Figure size 640x480 with 0 Axes>"
      ]
     },
     "metadata": {},
     "output_type": "display_data"
    },
    {
     "data": {
      "image/png": "[encoded data removed]",
      "text/plain": [
       "<Figure size 1000x1000 with 1 Axes>"
      ]
     },
     "metadata": {},
     "output_type": "display_data"
    }
   ],
   "source": [
    "from sklearn.metrics import roc_auc_score,roc_curve\n",
    "plt.figure()\n",
    "roc_model = [\n",
    "    {\n",
    "        'label' : 'RandomForestClassifier',\n",
    "        'model' : RandomForestClassifier(n_estimators= 100, min_samples_split= 2, max_features= 7, max_depth= None),\n",
    "        'acc' : 0.91\n",
    "    },\n",
    "]\n",
    "\n",
    "for auc in roc_model:\n",
    "    model = auc['model']\n",
    "    model.fit(x_train,y_train)\n",
    "    plt.figure(figsize=(10,10))\n",
    "    fpr,tpr,threshold = roc_curve(y_test,model.predict_proba(x_test)[:,1])\n",
    "\n",
    "    plt.plot(fpr,tpr,label = f\"{auc['model']} and {auc['acc']}\")\n",
    "\n",
    "plt.plot([0,1],[0,1])\n",
    "plt.xlim([0,1])\n",
    "plt.ylim([0,1.05])\n",
    "plt.xlabel('1-Specificity(False Positive Rate)')\n",
    "plt.ylabel('Sensitivity(True Positive Rate)')\n",
    "plt.title('Receiver Operating Characteristic')\n",
    "plt.legend(loc=\"lower right\")\n",
    "plt.show()"
   ]
  },
  {
   "cell_type": "code",
   "execution_count": null,
   "id": "d537b8e4",
   "metadata": {},
   "outputs": [],
   "source": [
    "# 1 . adaboost_param={\n",
    "#     \"n_estimators\":[50,60,70,80,90],\n",
    "#     \"algorithm\":['SAMME','SAMME.R']\n",
    "# }    may be ADABOOST CLASSIFIER\n",
    "\n",
    "# 2. auc_models = [\n",
    "# {\n",
    "#     'label': 'Adaboost Classifier',\n",
    "#     'model':AdaBoostClassifier(n_estimators=80, algorithm='SAMME'),\n",
    "#     'auc':  0.6049\n",
    "# },\n",
    "    \n",
    "# ]"
   ]
  },
  {
   "cell_type": "code",
   "execution_count": null,
   "id": "6011a838",
   "metadata": {},
   "outputs": [],
   "source": [
    "# gradient_params={\"loss\": ['log_loss','deviance','exponential'],\n",
    "#              \"criterion\": ['friedman_mse','squared_error','mse'],\n",
    "#              \"min_samples_split\": [2, 8, 15, 20],\n",
    "#              \"n_estimators\": [100, 200, 500],\n",
    "#               \"max_depth\": [5, 8, 15, None, 10]\n",
    "#                 }\n",
    "\n",
    "# for the regression\n",
    "# gradient_params={\"loss\": ['squared_error','huber','absolute_error'],\n",
    "#              \"criterion\": ['friedman_mse','squared_error','mse'],\n",
    "#              \"min_samples_split\": [2, 8, 15, 20],\n",
    "#              \"n_estimators\": [100, 200, 500],\n",
    "#               \"max_depth\": [5, 8, 15, None, 10],\n",
    "#             }"
   ]
  },
  {
   "cell_type": "code",
   "execution_count": null,
   "id": "d43a1d7c",
   "metadata": {},
   "outputs": [],
   "source": [
    "# xgboost_params = {\"learning_rate\": [0.1, 0.01],\n",
    "#                   \"max_depth\": [5, 8, 12, 20, 30],\n",
    "#                   \"n_estimators\": [100, 200, 300],\n",
    "#                   \"colsample_bytree\": [0.5, 0.8, 1, 0.3, 0.4]}\n",
    "\n",
    "# xgboost_params = {\"learning_rate\": [0.1, 0.01],\n",
    "#                   \"max_depth\": [5, 8, 12, 20, 30],\n",
    "#                   \"n_estimators\": [100, 200, 300],\n",
    "#                   \"colsample_bytree\": [0.5, 0.8, 1, 0.3, 0.4]}"
   ]
  }
 ],
 "metadata": {
  "kernelspec": {
   "display_name": "Python 3",
   "language": "python",
   "name": "python3"
  },
  "language_info": {
   "codemirror_mode": {
    "name": "ipython",
    "version": 3
   },
   "file_extension": ".py",
   "mimetype": "text/x-python",
   "name": "python",
   "nbconvert_exporter": "python",
   "pygments_lexer": "ipython3",
   "version": "3.12.0"
  }
 },
 "nbformat": 4,
 "nbformat_minor": 5
}
