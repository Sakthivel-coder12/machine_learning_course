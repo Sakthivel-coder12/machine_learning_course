{
 "cells": [
  {
   "cell_type": "code",
   "execution_count": 9,
   "id": "21234cd5",
   "metadata": {},
   "outputs": [
    {
     "data": {
      "text/plain": [
       "(array([3.5, 4. ]), array([0.]))"
      ]
     },
     "execution_count": 9,
     "metadata": {},
     "output_type": "execute_result"
    }
   ],
   "source": [
    "import numpy as np\n",
    "def relu(z):\n",
    "    return np.maximum(z,0)\n",
    "def neuron(inputs,weights,b):\n",
    "    z = np.dot(inputs,weights) + b\n",
    "    a =  relu(z)\n",
    "    return a\n",
    "\n",
    "x = [1,2]\n",
    "w = [[0.5,-1.0],[1.5,2.0]]\n",
    "b1 = [0,1]\n",
    "b2 = [0]\n",
    "w2 = [1.0, -1.0]\n",
    "z1 = neuron(x,w,b1)\n",
    "z2 = neuron(z1,w2,b2)\n",
    "z1,z2"
   ]
  },
  {
   "cell_type": "code",
   "execution_count": 10,
   "id": "897f4085",
   "metadata": {},
   "outputs": [
    {
     "data": {
      "text/plain": [
       "(array([0.56463629, 0.68135373]), np.float64(0.678380354043277))"
      ]
     },
     "execution_count": 10,
     "metadata": {},
     "output_type": "execute_result"
    }
   ],
   "source": [
    "# Input: x = [0.8, 0.4]\n",
    "# - First layer weights:\n",
    "# W1 = [[0.1, 0.4],\n",
    "# [0.2, 0.6]]\n",
    "# - Bias: b1 = [0.1, 0.2]\n",
    "# - Second layer weights: W2 = [0.3, 0.7]\n",
    "# - Bias: b2 = 0.1\n",
    "# - Activation: Sigmoid\n",
    "# Sigmoid formula: σ(x) = 1 / (1 + e^(-x))\n",
    "def sigmoid(x):\n",
    "    return (1 / (1 + np.exp(-x)))\n",
    "def neuron(inputs,weights,b):\n",
    "    z = np.dot(inputs,weights) + b\n",
    "    a =  sigmoid(z)\n",
    "    return a\n",
    "x = [0.8,0.4]\n",
    "w1 = [[0.1, 0.4],\n",
    "      [0.2, 0.6]]\n",
    "b1 = [0.1,0.2]\n",
    "b2 = 0.1\n",
    "w2 = [0.3,0.7]\n",
    "\n",
    "z1 = neuron(x,w1,b1)\n",
    "z2 = neuron(z1,w2,b2)\n",
    "\n",
    "z1,z2"
   ]
  },
  {
   "cell_type": "code",
   "execution_count": 14,
   "id": "0d986b3c",
   "metadata": {},
   "outputs": [
    {
     "name": "stdout",
     "output_type": "stream",
     "text": [
      "0 0 0    0 0\n",
      "0 1 0    1 1\n",
      "1 0 0    1 1\n",
      "1 1 1    2 2\n",
      "==================================================\n",
      "0 0 0    0 0.5\n",
      "0 1 1    1 1.5\n",
      "1 0 1    1 1.5\n",
      "1 1 1    2 2.5\n",
      "==================================================\n",
      "0 1 1    1 1\n",
      "1 1 1    2 2\n"
     ]
    }
   ],
   "source": [
    "def mc_pitts_neuron(inputs,threshold,bias):\n",
    "\n",
    "    input_sum = sum(inputs)\n",
    "    total = input_sum + bias\n",
    "    if input_sum >= threshold:\n",
    "        output = 1\n",
    "    else:\n",
    "        output = 0\n",
    "\n",
    "    return output,input_sum,total\n",
    "\n",
    "for x in [0,1]:\n",
    "    for y in [0,1]:\n",
    "        output,input_sum,total = mc_pitts_neuron([x,y],threshold=2,bias=0)\n",
    "\n",
    "        print(f\"{x} {y} {output}    {input_sum} {total}\")\n",
    "\n",
    "    \n",
    "\n",
    "print(\"==================================================\")\n",
    "for x in [0,1]:\n",
    "    for y in [0,1]:\n",
    "        output,input_sum,total = mc_pitts_neuron([x,y],threshold=1,bias=0.5)\n",
    "        print(f\"{x} {y} {output}    {input_sum} {total}\")\n",
    "\n",
    "print(\"==================================================\")    \n",
    "\n",
    "for x in [0,1]:\n",
    "    inverted = 1-x\n",
    "    output,input_sum,total = mc_pitts_neuron([x,y],threshold=1,bias=0)\n",
    "    print(f\"{x} {y} {output}    {input_sum} {total}\")\n",
    "\n",
    "    \n",
    "    "
   ]
  },
  {
   "cell_type": "code",
   "execution_count": 21,
   "id": "a603cac7",
   "metadata": {},
   "outputs": [
    {
     "name": "stdout",
     "output_type": "stream",
     "text": [
      "0 0 -1.0  0 -1.0 0  \n",
      "0 0 -0.5  0 -0.5 0  \n",
      "0 0 0.0  0 0.0 0  \n",
      "0 0 0.5  0 0.5 0  \n",
      "0 0 1.0  0 1.0 0  \n",
      "0 0 1.5  0 1.5 0  \n",
      "0 0 2.0  0 2.0 0  \n",
      "--------------------------------------------------\n",
      "0 1 -1.0  1 0.0 0  \n",
      "0 1 -0.5  1 0.5 0  \n",
      "0 1 0.0  1 1.0 0  \n",
      "0 1 0.5  1 1.5 0  \n",
      "0 1 1.0  1 2.0 0  \n",
      "0 1 1.5  1 2.5 0  \n",
      "0 1 2.0  1 3.0 0  \n",
      "--------------------------------------------------\n",
      "1 0 -1.0  1 0.0 0  \n",
      "1 0 -0.5  1 0.5 0  \n",
      "1 0 0.0  1 1.0 0  \n",
      "1 0 0.5  1 1.5 0  \n",
      "1 0 1.0  1 2.0 0  \n",
      "1 0 1.5  1 2.5 0  \n",
      "1 0 2.0  1 3.0 0  \n",
      "--------------------------------------------------\n",
      "1 1 -1.0  2 1.0 1  \n",
      "1 1 -0.5  2 1.5 1  \n",
      "1 1 0.0  2 2.0 1  \n",
      "1 1 0.5  2 2.5 1  \n",
      "1 1 1.0  2 3.0 1  \n",
      "1 1 1.5  2 3.5 1  \n",
      "1 1 2.0  2 4.0 1  \n",
      "--------------------------------------------------\n"
     ]
    }
   ],
   "source": [
    "test_input = [\n",
    "    (0,0),\n",
    "    (0,1),\n",
    "    (1,0),\n",
    "    (1,1)\n",
    "    ]\n",
    "\n",
    "bias = [-1.0,-0.5,0.0,0.5,1.0,1.5,2.0]\n",
    "\n",
    "for x1,x2 in test_input:\n",
    "    for b in bias:\n",
    "        output,input_sum,total= mc_pitts_neuron([x1,x2],threshold=2,bias=b)\n",
    "        print(f\"{x1} {x2} {b}  {input_sum} {total} {output}  \")\n",
    "    print('-'*50)"
   ]
  },
  {
   "cell_type": "code",
   "execution_count": 24,
   "id": "74b3e736",
   "metadata": {},
   "outputs": [
    {
     "data": {
      "text/plain": [
       "[np.float64(0.6590011388859679),\n",
       " np.float64(0.2424329707047139),\n",
       " np.float64(0.09856589040931818)]"
      ]
     },
     "execution_count": 24,
     "metadata": {},
     "output_type": "execute_result"
    }
   ],
   "source": [
    "def softmax(z):\n",
    "    n= list()\n",
    "    a = 0\n",
    "    for i in z:\n",
    "        a += np.exp(i)\n",
    "    for i in z:\n",
    "        b = np.exp(i)/a\n",
    "        n.append(b)\n",
    "    return n\n",
    "z = [2.0,1.0,0.1]\n",
    "l = softmax(z)\n",
    "l"
   ]
  }
 ],
 "metadata": {
  "kernelspec": {
   "display_name": "Python 3",
   "language": "python",
   "name": "python3"
  },
  "language_info": {
   "codemirror_mode": {
    "name": "ipython",
    "version": 3
   },
   "file_extension": ".py",
   "mimetype": "text/x-python",
   "name": "python",
   "nbconvert_exporter": "python",
   "pygments_lexer": "ipython3",
   "version": "3.12.0"
  }
 },
 "nbformat": 4,
 "nbformat_minor": 5
}
