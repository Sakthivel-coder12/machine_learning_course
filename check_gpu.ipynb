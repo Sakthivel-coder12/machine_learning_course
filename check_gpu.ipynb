{
 "cells": [
  {
   "cell_type": "code",
   "execution_count": null,
   "id": "3f35cddd",
   "metadata": {},
   "outputs": [],
   "source": [
    "print('fadf')"
   ]
  },
  {
   "cell_type": "code",
   "execution_count": 1,
   "id": "4656e9f1",
   "metadata": {},
   "outputs": [
    {
     "name": "stdout",
     "output_type": "stream",
     "text": [
      "PyTorch GPU working: True\n"
     ]
    }
   ],
   "source": [
    "import torch\n",
    "print(\"PyTorch GPU working:\", torch.cuda.is_available())"
   ]
  }
 ],
 "metadata": {
  "kernelspec": {
   "display_name": "pytorch",
   "language": "python",
   "name": "python3"
  },
  "language_info": {
   "codemirror_mode": {
    "name": "ipython",
    "version": 3
   },
   "file_extension": ".py",
   "mimetype": "text/x-python",
   "name": "python",
   "nbconvert_exporter": "python",
   "pygments_lexer": "ipython3",
   "version": "3.10.18"
  }
 },
 "nbformat": 4,
 "nbformat_minor": 5
}
