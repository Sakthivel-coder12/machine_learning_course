{
 "cells": [
  {
   "cell_type": "code",
   "execution_count": 5,
   "id": "6d183760",
   "metadata": {},
   "outputs": [
    {
     "data": {
      "text/plain": [
       "array([[1, 2, 0, 3, 1],\n",
       "       [4, 1, 0, 1, 7],\n",
       "       [1, 3, 5, 1, 1],\n",
       "       [2, 2, 1, 5, 1]])"
      ]
     },
     "execution_count": 5,
     "metadata": {},
     "output_type": "execute_result"
    }
   ],
   "source": [
    "import numpy as np\n",
    "image = np.array([[1,2,0,3,1],\n",
    "                 [4,1,0,1,7],\n",
    "                 [1,3,5,1,1],\n",
    "                 [2,2,1,5,1]]\n",
    "                 )\n",
    "kernel = np.array([[1,0,1],[0,1,0],[1,0,1]])\n",
    "image"
   ]
  },
  {
   "cell_type": "code",
   "execution_count": 6,
   "id": "75202cda",
   "metadata": {},
   "outputs": [
    {
     "data": {
      "text/plain": [
       "array([[1, 0, 1],\n",
       "       [0, 1, 0],\n",
       "       [1, 0, 1]])"
      ]
     },
     "execution_count": 6,
     "metadata": {},
     "output_type": "execute_result"
    }
   ],
   "source": [
    "kernel"
   ]
  },
  {
   "cell_type": "code",
   "execution_count": 11,
   "id": "1e3633bc",
   "metadata": {},
   "outputs": [
    {
     "name": "stdout",
     "output_type": "stream",
     "text": [
      "(4, 5)\n",
      "(3, 3)\n"
     ]
    }
   ],
   "source": [
    "print(image.shape)\n",
    "print(kernel.shape)"
   ]
  }
 ],
 "metadata": {
  "kernelspec": {
   "display_name": "Python 3",
   "language": "python",
   "name": "python3"
  },
  "language_info": {
   "codemirror_mode": {
    "name": "ipython",
    "version": 3
   },
   "file_extension": ".py",
   "mimetype": "text/x-python",
   "name": "python",
   "nbconvert_exporter": "python",
   "pygments_lexer": "ipython3",
   "version": "3.10.18"
  }
 },
 "nbformat": 4,
 "nbformat_minor": 5
}
