{
 "cells": [
  {
   "cell_type": "code",
   "execution_count": 4,
   "id": "399111ae-375b-4a7f-870b-8b97b79f94a7",
   "metadata": {},
   "outputs": [],
   "source": [
    "import numpy as np\n",
    "from scipy.signal import convolve2d\n",
    "image = np.array([[1,2,3,0,1],\n",
    "                  [0,1,2,3,2],\n",
    "                  [3,1,0,2,1],\n",
    "                  [2,0,1,3,0],\n",
    "                  [1,2,0,1,3]])\n",
    "kernel = np.array([[1,0,-1],\n",
    "                  [1,0,-1],\n",
    "                  [1,0,-1]])"
   ]
  },
  {
   "cell_type": "code",
   "execution_count": 5,
   "id": "a65e22cc-4ac0-4582-a1b9-8f3b9797e9b2",
   "metadata": {},
   "outputs": [
    {
     "data": {
      "text/plain": [
       "array([[1, 2, 3, 0, 1],\n",
       "       [0, 1, 2, 3, 2],\n",
       "       [3, 1, 0, 2, 1],\n",
       "       [2, 0, 1, 3, 0],\n",
       "       [1, 2, 0, 1, 3]])"
      ]
     },
     "execution_count": 5,
     "metadata": {},
     "output_type": "execute_result"
    }
   ],
   "source": [
    "image"
   ]
  },
  {
   "cell_type": "code",
   "execution_count": 6,
   "id": "31313e84-aa2b-4c00-aa7a-33881b97ada8",
   "metadata": {},
   "outputs": [
    {
     "data": {
      "text/plain": [
       "array([[ 1,  0, -1],\n",
       "       [ 1,  0, -1],\n",
       "       [ 1,  0, -1]])"
      ]
     },
     "execution_count": 6,
     "metadata": {},
     "output_type": "execute_result"
    }
   ],
   "source": [
    "kernel"
   ]
  },
  {
   "cell_type": "markdown",
   "id": "65ed9b09-0774-440a-99d5-fcc6363e81d4",
   "metadata": {},
   "source": [
    "# program 1 "
   ]
  },
  {
   "cell_type": "code",
   "execution_count": 7,
   "id": "ee169280-87b7-47d1-bc7b-d6420d3884e4",
   "metadata": {},
   "outputs": [
    {
     "name": "stdout",
     "output_type": "stream",
     "text": [
      "padding = 0\n",
      "[[ 1  1 -1]\n",
      " [-2  6  0]\n",
      " [-5  3  3]]\n"
     ]
    }
   ],
   "source": [
    "output = convolve2d(image,kernel,mode = \"valid\")\n",
    "print(\"padding = 0\")\n",
    "print(output)"
   ]
  },
  {
   "cell_type": "markdown",
   "id": "7df3ddd7-7186-40ec-b34c-707d36318bbc",
   "metadata": {},
   "source": [
    "## program 2 padding = 1"
   ]
  },
  {
   "cell_type": "code",
   "execution_count": 9,
   "id": "5317bcd9-84b9-4c10-9577-68374c8b900e",
   "metadata": {},
   "outputs": [
    {
     "name": "stdout",
     "output_type": "stream",
     "text": [
      "[[ 3  4  0 -2 -3]\n",
      " [ 4  1  1 -1 -5]\n",
      " [ 2 -2  6  0 -8]\n",
      " [ 3 -5  3  3 -6]\n",
      " [ 2 -2  2  2 -4]]\n"
     ]
    }
   ],
   "source": [
    "padded = np.pad(image,pad_width = 1,mode = \"constant\")\n",
    "output = convolve2d(padded,kernel,mode = \"valid\")\n",
    "print(output)"
   ]
  },
  {
   "cell_type": "markdown",
   "id": "cf3ba0f6-2d23-4171-bbbe-907ceff9df2f",
   "metadata": {},
   "source": [
    "## padding = 2"
   ]
  },
  {
   "cell_type": "code",
   "execution_count": 11,
   "id": "08a6b0e9-2347-4ef1-bf45-0021d03c9192",
   "metadata": {},
   "outputs": [
    {
     "name": "stdout",
     "output_type": "stream",
     "text": [
      "[[ 1  2  2 -2 -2  0 -1]\n",
      " [ 1  3  4  0 -2 -3 -3]\n",
      " [ 4  4  1  1 -1 -5 -4]\n",
      " [ 5  2 -2  6  0 -8 -3]\n",
      " [ 6  3 -5  3  3 -6 -4]\n",
      " [ 3  2 -2  2  2 -4 -3]\n",
      " [ 1  2 -1 -1  3 -1 -3]]\n"
     ]
    }
   ],
   "source": [
    "padded = np.pad(image,pad_width = 2,mode = \"constant\")\n",
    "output = convolve2d(padded,kernel,mode = \"valid\")\n",
    "print(output)"
   ]
  },
  {
   "cell_type": "code",
   "execution_count": 12,
   "id": "cff101cb-7947-48bf-8955-bb24df8b10b1",
   "metadata": {},
   "outputs": [
    {
     "name": "stdout",
     "output_type": "stream",
     "text": [
      "Stride_output\n",
      "[[ 1 -1]\n",
      " [-5  3]]\n"
     ]
    }
   ],
   "source": [
    "output = convolve2d(image,kernel,mode = \"valid\")\n",
    "stride_output = output[::2,::2]\n",
    "print(\"Stride_output\")\n",
    "print(stride_output)"
   ]
  },
  {
   "cell_type": "code",
   "execution_count": 13,
   "id": "a02e9957-47dc-4116-ac99-2141983a70b1",
   "metadata": {},
   "outputs": [
    {
     "name": "stdout",
     "output_type": "stream",
     "text": [
      "stride_output = 3\n",
      "[[1]]\n"
     ]
    }
   ],
   "source": [
    "output = convolve2d(image,kernel,mode = \"valid\")\n",
    "stride = output[::3,::3]\n",
    "print(\"stride_output = 3\")\n",
    "print(stride)"
   ]
  },
  {
   "cell_type": "code",
   "execution_count": 20,
   "id": "de376f28-2c63-4e15-b440-000e7303b548",
   "metadata": {},
   "outputs": [
    {
     "data": {
      "text/plain": [
       "array([[0, 0, 0, 0, 0, 0, 0],\n",
       "       [0, 1, 2, 3, 0, 1, 0],\n",
       "       [0, 0, 1, 2, 3, 2, 0],\n",
       "       [0, 3, 1, 0, 2, 1, 0],\n",
       "       [0, 2, 0, 1, 3, 0, 0],\n",
       "       [0, 1, 2, 0, 1, 3, 0],\n",
       "       [0, 0, 0, 0, 0, 0, 0]])"
      ]
     },
     "execution_count": 20,
     "metadata": {},
     "output_type": "execute_result"
    }
   ],
   "source": [
    "pad = np.pad(image,pad_width = 1,mode = \"constant\")\n",
    "pad"
   ]
  },
  {
   "cell_type": "code",
   "execution_count": 21,
   "id": "1bb8be71-87a8-4475-963c-359700d1e821",
   "metadata": {},
   "outputs": [
    {
     "name": "stdout",
     "output_type": "stream",
     "text": [
      "padding = 1,stride = 2\n",
      "[[ 3  0 -3]\n",
      " [ 2  6 -8]\n",
      " [ 2  2 -4]]\n"
     ]
    }
   ],
   "source": [
    "output = convolve2d(pad,kernel,mode = \"valid\")\n",
    "stride = output[::2,::2]\n",
    "print(\"padding = 1,stride = 2\")\n",
    "print(stride)"
   ]
  },
  {
   "cell_type": "code",
   "execution_count": 22,
   "id": "c1b77384-7aff-4ac0-8553-267b3ba68d9e",
   "metadata": {},
   "outputs": [
    {
     "name": "stdout",
     "output_type": "stream",
     "text": [
      "[[ 1  2  2 -2 -2  0 -1]\n",
      " [ 1  3  4  0 -2 -3 -3]\n",
      " [ 4  4  1  1 -1 -5 -4]\n",
      " [ 5  2 -2  6  0 -8 -3]\n",
      " [ 6  3 -5  3  3 -6 -4]\n",
      " [ 3  2 -2  2  2 -4 -3]\n",
      " [ 1  2 -1 -1  3 -1 -3]]\n"
     ]
    }
   ],
   "source": [
    "pad = np.pad(image,pad_width=2,mode = \"constant\")\n",
    "output = convolve2d(pad,kernel,mode = \"valid\")\n",
    "print(output)"
   ]
  },
  {
   "cell_type": "code",
   "execution_count": 23,
   "id": "14f38a6b-b6d7-4f27-8f62-7275d8627ca4",
   "metadata": {},
   "outputs": [
    {
     "name": "stdout",
     "output_type": "stream",
     "text": [
      "[[ 3  4  0 -2 -3]\n",
      " [ 4  1  1 -1 -5]\n",
      " [ 2 -2  6  0 -8]\n",
      " [ 3 -5  3  3 -6]\n",
      " [ 2 -2  2  2 -4]]\n"
     ]
    }
   ],
   "source": [
    "output = convolve2d(image,kernel,mode = \"same\")\n",
    "print(output)"
   ]
  },
  {
   "cell_type": "code",
   "execution_count": 24,
   "id": "fcfbfcd7-47f0-41c9-996e-c7554d2b4cc5",
   "metadata": {},
   "outputs": [
    {
     "name": "stdout",
     "output_type": "stream",
     "text": [
      "[[ 1  2  2 -2 -2  0 -1]\n",
      " [ 1  3  4  0 -2 -3 -3]\n",
      " [ 4  4  1  1 -1 -5 -4]\n",
      " [ 5  2 -2  6  0 -8 -3]\n",
      " [ 6  3 -5  3  3 -6 -4]\n",
      " [ 3  2 -2  2  2 -4 -3]\n",
      " [ 1  2 -1 -1  3 -1 -3]]\n"
     ]
    }
   ],
   "source": [
    "output = convolve2d(image,kernel,mode = \"full\")\n",
    "print(output)"
   ]
  },
  {
   "cell_type": "code",
   "execution_count": null,
   "id": "bf4fed34-1668-4497-ba74-6abee9ff6afb",
   "metadata": {},
   "outputs": [],
   "source": []
  },
  {
   "cell_type": "code",
   "execution_count": null,
   "id": "f064960b-d6d9-4bcf-9bf3-06c1c3084f34",
   "metadata": {},
   "outputs": [],
   "source": []
  }
 ],
 "metadata": {
  "kernelspec": {
   "display_name": "Python [conda env:dl]",
   "language": "python",
   "name": "conda-env-dl-py"
  },
  "language_info": {
   "codemirror_mode": {
    "name": "ipython",
    "version": 3
   },
   "file_extension": ".py",
   "mimetype": "text/x-python",
   "name": "python",
   "nbconvert_exporter": "python",
   "pygments_lexer": "ipython3",
   "version": "3.10.18"
  }
 },
 "nbformat": 4,
 "nbformat_minor": 5
}
