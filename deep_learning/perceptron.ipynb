{
 "cells": [
  {
   "cell_type": "markdown",
   "id": "d1d378e3-d6d0-4538-bfca-a074fbc21d2b",
   "metadata": {},
   "source": [
    "## Sample program to show the working process of the perceptron with bias"
   ]
  },
  {
   "cell_type": "code",
   "execution_count": 6,
   "id": "5282f33a-f918-4aaf-acab-0b53c5ab538e",
   "metadata": {},
   "outputs": [],
   "source": [
    "import numpy as np\n",
    "\n",
    "\n",
    "    "
   ]
  },
  {
   "cell_type": "code",
   "execution_count": 14,
   "id": "25ff572c-0a12-4484-8edd-6a7618fa1fe8",
   "metadata": {},
   "outputs": [
    {
     "data": {
      "text/plain": [
       "array([0.5])"
      ]
     },
     "execution_count": 14,
     "metadata": {},
     "output_type": "execute_result"
    }
   ],
   "source": [
    "np.dot([1,0],[[0.5],[-0.6]])  "
   ]
  },
  {
   "cell_type": "code",
   "execution_count": 20,
   "id": "7a0509d8-2094-4481-a3b3-81a3db7322ac",
   "metadata": {},
   "outputs": [
    {
     "data": {
      "text/plain": [
       "2"
      ]
     },
     "execution_count": 20,
     "metadata": {},
     "output_type": "execute_result"
    }
   ],
   "source": [
    "a = np.array([[0.5],[-0.6]])\n",
    "a.ndim"
   ]
  },
  {
   "cell_type": "code",
   "execution_count": 22,
   "id": "821e2461-aaac-485c-8d48-71083d474a76",
   "metadata": {},
   "outputs": [
    {
     "name": "stdout",
     "output_type": "stream",
     "text": [
      "Preceptron Output 1\n"
     ]
    }
   ],
   "source": [
    "import numpy as np\n",
    "\n",
    "\n",
    "def step_function(x):\n",
    "    return 1 if x >= 0 else 0\n",
    "\n",
    "def preceptron(x,weight,bias):\n",
    "    z = np.dot(x,weight)+bias\n",
    "    return step_function(z)\n",
    "\n",
    "\n",
    "x = [1,0]\n",
    "w = [[0.5],[-0.6]]\n",
    "bias = 0.1\n",
    "\n",
    "output = preceptron(x,w,bias)\n",
    "print(\"Preceptron Output\" , output)"
   ]
  },
  {
   "cell_type": "code",
   "execution_count": 24,
   "id": "8132cc85-b030-4219-8fe6-bb821cbb8cde",
   "metadata": {},
   "outputs": [
    {
     "name": "stdout",
     "output_type": "stream",
     "text": [
      "Preceptron Output [0.64565631]\n"
     ]
    }
   ],
   "source": [
    "import numpy as np\n",
    "\n",
    "\n",
    "def step_function(x):\n",
    "    return 1 / (1 + np.exp(-x))\n",
    "\n",
    "def preceptron(x,weight,bias):\n",
    "    z = np.dot(x,weight)+bias\n",
    "    return step_function(z)\n",
    "\n",
    "\n",
    "x = [1,0]\n",
    "w = [[0.5],[-0.6]]\n",
    "bias = 0.1\n",
    "\n",
    "output = preceptron(x,w,bias)\n",
    "print(\"Preceptron Output\" , output)"
   ]
  },
  {
   "cell_type": "code",
   "execution_count": null,
   "id": "e18687d3-768d-4302-8f6a-3bc16066abd1",
   "metadata": {},
   "outputs": [],
   "source": []
  },
  {
   "cell_type": "code",
   "execution_count": null,
   "id": "b43d6997-cdd6-48d5-bf50-3953a038c87f",
   "metadata": {},
   "outputs": [],
   "source": []
  }
 ],
 "metadata": {
  "kernelspec": {
   "display_name": "Python 3 (ipykernel)",
   "language": "python",
   "name": "python3"
  },
  "language_info": {
   "codemirror_mode": {
    "name": "ipython",
    "version": 3
   },
   "file_extension": ".py",
   "mimetype": "text/x-python",
   "name": "python",
   "nbconvert_exporter": "python",
   "pygments_lexer": "ipython3",
   "version": "3.12.4"
  }
 },
 "nbformat": 4,
 "nbformat_minor": 5
}
