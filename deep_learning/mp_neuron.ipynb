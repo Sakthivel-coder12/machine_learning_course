{
 "cells": [
  {
   "cell_type": "code",
   "execution_count": 76,
   "id": "ea25b5c6-eb9a-4f2a-9e32-73c36babbd49",
   "metadata": {},
   "outputs": [],
   "source": [
    "def mc_neuron(inputs,threshold):\n",
    "    total = sum(inputs)\n",
    "    output = 1 if total >= threshold else 0\n",
    "    return total,output"
   ]
  },
  {
   "cell_type": "code",
   "execution_count": 77,
   "id": "56058897-ea9b-4d78-8b42-77caf1d88b9e",
   "metadata": {},
   "outputs": [
    {
     "name": "stdout",
     "output_type": "stream",
     "text": [
      "And Gate simulation\n",
      "x1     x2     threshold     output     total\n",
      "0      0         2             0          0\n",
      "0      1         2             0          1\n",
      "1      0         2             0          1\n",
      "1      1         2             1          2\n"
     ]
    }
   ],
   "source": [
    "print(\"And Gate simulation\")\n",
    "print(\"x1     x2     threshold     output     total\")\n",
    "for x1 in [0,1]:\n",
    "    for x2 in [0,1]:\n",
    "        total,output = mc_neuron([x1,x2],threshold = 2)\n",
    "        print(f\"{x1}      {x2}         2             {output}          {total}\")"
   ]
  },
  {
   "cell_type": "code",
   "execution_count": 78,
   "id": "5ed9e3c7-9c67-4ab2-a43e-1baf4bac96cc",
   "metadata": {},
   "outputs": [
    {
     "name": "stdout",
     "output_type": "stream",
     "text": [
      "OR Gate simulation\n",
      "x1     x2     threshold     output     total\n",
      "0      0         2             0          0\n",
      "0      1         2             1          1\n",
      "1      0         2             1          1\n",
      "1      1         2             1          2\n"
     ]
    }
   ],
   "source": [
    "print(\"OR Gate simulation\")\n",
    "print(\"x1     x2     threshold     output     total\")\n",
    "for x1 in [0,1]:\n",
    "    for x2 in [0,1]:\n",
    "        total,output = mc_neuron([x1,x2],threshold = 1)\n",
    "        print(f\"{x1}      {x2}         2             {output}          {total}\")"
   ]
  },
  {
   "cell_type": "code",
   "execution_count": 79,
   "id": "c6903d4a-140f-4de2-b506-f0abe139ea95",
   "metadata": {},
   "outputs": [
    {
     "name": "stdout",
     "output_type": "stream",
     "text": [
      "Not Gate simulation\n",
      "Interved sum Threshold Output\n",
      "x1     x2     threshold     output     total\n",
      "0      1         1             0          0\n",
      "1      0         1             1          1\n"
     ]
    }
   ],
   "source": [
    "print(\"Not Gate simulation\")\n",
    "print(\"Interved sum Threshold Output\")\n",
    "print(\"x1     x2     threshold     output     total\")\n",
    "for x in [0,1]:\n",
    "    inverted_input = 1 - x\n",
    "    total,output = mc_neuron([x],threshold = 1)\n",
    "    print(f\"{x}      {inverted_input}         1             {output}          {total}\")"
   ]
  },
  {
   "cell_type": "markdown",
   "id": "78f2c9dc-d634-4928-a00e-3a3dd5eb4d96",
   "metadata": {},
   "source": [
    "## mp neuron with bais"
   ]
  },
  {
   "cell_type": "code",
   "execution_count": 80,
   "id": "0bf15c4c-dadb-4bd8-bf95-918ee156bf8f",
   "metadata": {},
   "outputs": [],
   "source": [
    "def mp_neuron_bais(inputs,threshold,bais):\n",
    "    input_sum = sum(inputs)\n",
    "    total = input_sum + bais\n",
    "    output = 1 if total >= threshold else 0\n",
    "    return output,input_sum,total"
   ]
  },
  {
   "cell_type": "code",
   "execution_count": 81,
   "id": "8ae90c35-6fcf-4b64-a91d-3b70c643fbf4",
   "metadata": {},
   "outputs": [
    {
     "name": "stdout",
     "output_type": "stream",
     "text": [
      "And Gate simulation\n",
      "x1     x2          Input_sum     threshold     bais      output     total\n",
      "0      0             0              2           0           0          0\n",
      "0      1             1              2           0           0          1\n",
      "1      0             1              2           0           0          1\n",
      "1      1             2              2           0           1          2\n"
     ]
    }
   ],
   "source": [
    "print(\"And Gate simulation\")\n",
    "print(\"x1     x2          Input_sum     threshold     bais      output     total\")\n",
    "for x1 in [0,1]:\n",
    "    for x2 in [0,1]:\n",
    "        output,input_sum,total = mp_neuron_bais([x1,x2],threshold = 2,bais = 0)\n",
    "        print(f\"{x1}      {x2}             {input_sum}              2           0           {output}          {total}\")"
   ]
  },
  {
   "cell_type": "code",
   "execution_count": 82,
   "id": "61e4af5f-27ca-43c9-a505-8cbb35b58651",
   "metadata": {},
   "outputs": [
    {
     "name": "stdout",
     "output_type": "stream",
     "text": [
      "OR Gate simulation\n",
      "x1     x2          Input_sum     threshold     bais      output     total\n",
      "0      0             0              2           0           0         0.5\n",
      "0      1             1              2           0           1         1.5\n",
      "1      0             1              2           0           1         1.5\n",
      "1      1             2              2           0           1         2.5\n"
     ]
    }
   ],
   "source": [
    "print(\"OR Gate simulation\")\n",
    "print(\"x1     x2          Input_sum     threshold     bais      output     total\")\n",
    "for x1 in [0,1]:\n",
    "    for x2 in [0,1]:\n",
    "\n",
    "        output,input_sum,total = mp_neuron_bais([x1,x2],threshold = 1.5,bais = 0.5)\n",
    "        print(f\"{x1}      {x2}             {input_sum}              2           0           {output}         {total}\")"
   ]
  },
  {
   "cell_type": "code",
   "execution_count": 95,
   "id": "89c2e51a-8e84-4a49-965a-2fc27d50bdb2",
   "metadata": {},
   "outputs": [
    {
     "name": "stdout",
     "output_type": "stream",
     "text": [
      "NOT Gate\n",
      "The Inverted sum threshold\n",
      "x     inverted_input     bais     threshold     input_sum     total     output\n",
      "0     1     0     1     1      1     1\n",
      "1     0     0     1     0      0     0\n"
     ]
    }
   ],
   "source": [
    "print(\"NOT Gate\")\n",
    "print(\"The Inverted sum threshold\")\n",
    "print(\"x     inverted_input     bais     threshold     input_sum     total     output\")\n",
    "for x in [0,1]:\n",
    "    inverted_input = 1 - x\n",
    "    output,input_sum,total = mp_neuron_bais([inverted_input],1,0)\n",
    "    print(f\"{x}     {inverted_input}     0     1     {input_sum}      {total}     {output}\")\n",
    "    "
   ]
  },
  {
   "cell_type": "markdown",
   "id": "6b112287-3499-4fe8-9086-757ce8c783b2",
   "metadata": {},
   "source": [
    "## MP neuron with different bais values"
   ]
  },
  {
   "cell_type": "code",
   "execution_count": 94,
   "id": "d81a0ca7-143d-4bf3-9ca9-44f402bea770",
   "metadata": {},
   "outputs": [],
   "source": [
    "test_inputs = [\n",
    "    (0,0),\n",
    "    (0,1),\n",
    "    (1,0),\n",
    "    (1,1)\n",
    "]\n",
    "bias_inputs = [-1.0,-0.5,0.0,0.5,1.0,1.5,2.0]\n",
    "threshold = 2\n"
   ]
  },
  {
   "cell_type": "code",
   "execution_count": 93,
   "id": "d8600820-c545-488a-a512-70afd985acb1",
   "metadata": {},
   "outputs": [
    {
     "name": "stdout",
     "output_type": "stream",
     "text": [
      "=====Neuron Output for varying bais values======\n",
      "X1     X2     Bias     InputSum      total     output\n",
      "0     0      -1.0     0     -1.0     0\n",
      "0     0      -0.5     0     -0.5     0\n",
      "0     0      +0.0     0     +0.0     0\n",
      "0     0      +0.5     0     +0.5     0\n",
      "0     0      +1.0     0     +1.0     0\n",
      "0     0      +1.5     0     +1.5     0\n",
      "0     0      +2.0     0     +2.0     1\n",
      "-----\n",
      "0     1      -1.0     1     +0.0     0\n",
      "0     1      -0.5     1     +0.5     0\n",
      "0     1      +0.0     1     +1.0     0\n",
      "0     1      +0.5     1     +1.5     0\n",
      "0     1      +1.0     1     +2.0     1\n",
      "0     1      +1.5     1     +2.5     1\n",
      "0     1      +2.0     1     +3.0     1\n",
      "-----\n",
      "1     0      -1.0     1     +0.0     0\n",
      "1     0      -0.5     1     +0.5     0\n",
      "1     0      +0.0     1     +1.0     0\n",
      "1     0      +0.5     1     +1.5     0\n",
      "1     0      +1.0     1     +2.0     1\n",
      "1     0      +1.5     1     +2.5     1\n",
      "1     0      +2.0     1     +3.0     1\n",
      "-----\n",
      "1     1      -1.0     2     +1.0     0\n",
      "1     1      -0.5     2     +1.5     0\n",
      "1     1      +0.0     2     +2.0     1\n",
      "1     1      +0.5     2     +2.5     1\n",
      "1     1      +1.0     2     +3.0     1\n",
      "1     1      +1.5     2     +3.5     1\n",
      "1     1      +2.0     2     +4.0     1\n",
      "-----\n"
     ]
    }
   ],
   "source": [
    "print(\"=====Neuron Output for varying bais values======\")\n",
    "print(\"X1     X2     Bias     InputSum      total     output\")\n",
    "for x1,x2 in test_inputs:\n",
    "    for bias in bias_inputs:\n",
    "        output,input_sum,total = mp_neuron_bais([x1,x2],threshold,bias)\n",
    "        print(f\"{x1}     {x2}      {bias:+.1f}     {input_sum}     {total:+.1f}     {output}\")\n",
    "    print(\"-\" * 5)"
   ]
  },
  {
   "cell_type": "code",
   "execution_count": 92,
   "id": "7f3dd912-4de8-488b-8c0f-b0cfed59c9b1",
   "metadata": {},
   "outputs": [],
   "source": [
    "def saga(x = 0):\n",
    "    print(x)"
   ]
  },
  {
   "cell_type": "code",
   "execution_count": 91,
   "id": "d6b1b274-77fe-4af9-b893-b980b0c52471",
   "metadata": {},
   "outputs": [
    {
     "name": "stdout",
     "output_type": "stream",
     "text": [
      "10101\n"
     ]
    }
   ],
   "source": [
    "saga(10101)"
   ]
  }
 ],
 "metadata": {
  "kernelspec": {
   "display_name": "Python 3",
   "language": "python",
   "name": "python3"
  },
  "language_info": {
   "codemirror_mode": {
    "name": "ipython",
    "version": 3
   },
   "file_extension": ".py",
   "mimetype": "text/x-python",
   "name": "python",
   "nbconvert_exporter": "python",
   "pygments_lexer": "ipython3",
   "version": "3.12.0"
  }
 },
 "nbformat": 4,
 "nbformat_minor": 5
}
