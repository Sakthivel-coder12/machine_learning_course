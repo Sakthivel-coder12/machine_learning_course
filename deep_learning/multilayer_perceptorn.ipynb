{
 "cells": [
  {
   "cell_type": "markdown",
   "id": "1eb47db6",
   "metadata": {},
   "source": [
    "## Single Hidden Layer Feedforward Output"
   ]
  },
  {
   "cell_type": "code",
   "execution_count": 3,
   "id": "6d9f99f4",
   "metadata": {},
   "outputs": [],
   "source": [
    "x = [1,2]\n",
    "w1 = [[0.5,-1.0],[1.5,2.0]]\n",
    "b1 = [0,1]\n",
    "\n",
    "# for i in x:\n",
    "#     for j in w1:\n",
    "\n",
    "# o1 = relu(z1)\n",
    "# w2 = [1.0,-1.0]\n",
    "# b2 = [0]"
   ]
  },
  {
   "cell_type": "code",
   "execution_count": 6,
   "id": "f3aff17d",
   "metadata": {},
   "outputs": [
    {
     "name": "stdout",
     "output_type": "stream",
     "text": [
      "[0.5, -1.0]\n",
      "[1.5, 2.0]\n",
      "[0.5, -1.0, 0.5, -1.0]\n",
      "[1.5, 2.0, 1.5, 2.0]\n"
     ]
    }
   ],
   "source": [
    "for j in x:\n",
    "    for i in w1:\n",
    "        print(i*j)"
   ]
  },
  {
   "cell_type": "code",
   "execution_count": 4,
   "id": "6ad2f15c",
   "metadata": {},
   "outputs": [
    {
     "name": "stdout",
     "output_type": "stream",
     "text": [
      "=== FORWARD PROPAGATION - BINARY CLASSIFICATION ===\n",
      "\n",
      "\n",
      "Input vector: [0.5000 0.2000 0.1000]\n",
      "\n",
      "--- Hidden Layer 1 (ReLU) ---\n",
      "Z: [0.2200 0.5600]\n",
      "A: [0.2200 0.5600]\n",
      "\n",
      "--- Output Layer (Sigmoid) ---\n",
      "\n",
      "Z (before sigmoid): 0.9020\n",
      "A (after sigmoid): 0.7114\n",
      "\n",
      "=== FINAL RESULTS ===\n",
      "Probability of Class 1: 0.7114\n",
      "Prediction: Class 1\n"
     ]
    }
   ],
   "source": [
    "import numpy as np\n",
    "\n",
    "def relu(z):\n",
    "    return np.maximum(0, z)\n",
    "\n",
    "def sigmoid(z):\n",
    "    z = np.clip(z, -500, 500)\n",
    "    return 1 / (1 + np.exp(-z))\n",
    "\n",
    "def forward_propagation():\n",
    "    np.set_printoptions(precision=4, suppress=True, floatmode='fixed')\n",
    "    print(\"=== FORWARD PROPAGATION - BINARY CLASSIFICATION ===\\n\")\n",
    "    \n",
    "    input_size = int(input(\"Enter number of input features: \"))\n",
    "    X = np.array([float(input(f\"Input x{i+1}: \")) for i in range(input_size)]).reshape(1, -1)\n",
    "    \n",
    "    print(f\"\\nInput vector: {X[0]}\")\n",
    "    \n",
    "    num_hidden_layers = int(input(\"\\nEnter number of hidden layers: \"))\n",
    "    current_input = X\n",
    "\n",
    "    for layer in range(num_hidden_layers):\n",
    "        print(f\"\\n--- Hidden Layer {layer + 1} (ReLU) ---\")\n",
    "        num_neurons = int(input(f\"Enter number of neurons: \"))\n",
    "        \n",
    "        weights = np.array([\n",
    "            [float(input(f\"Weight from input {i+1} to neuron {j+1}: \")) for j in range(num_neurons)]\n",
    "            for i in range(current_input.shape[1])\n",
    "        ])\n",
    "        \n",
    "        biases = np.array([\n",
    "            float(input(f\"Bias for neuron {j+1}: \")) for j in range(num_neurons)\n",
    "        ]).reshape(1, -1)\n",
    "        \n",
    "        z = np.dot(current_input, weights) + biases\n",
    "        a = relu(z)\n",
    "\n",
    "        print(f\"Z: {z[0]}\")\n",
    "        print(f\"A: {a[0]}\")\n",
    "        \n",
    "        current_input = a\n",
    "\n",
    "    print(f\"\\n--- Output Layer (Sigmoid) ---\")\n",
    "    \n",
    "    output_weights = np.array([\n",
    "        float(input(f\"Weight from hidden neuron {i+1} to output: \")) for i in range(current_input.shape[1])\n",
    "    ]).reshape(-1, 1)\n",
    "    \n",
    "    output_bias = float(input(\"Enter bias for output neuron: \"))\n",
    "    \n",
    "    z_out = np.dot(current_input, output_weights) + output_bias\n",
    "    a_out = sigmoid(z_out)[0][0]\n",
    "    \n",
    "    print(f\"\\nZ (before sigmoid): {z_out[0][0]:.4f}\")\n",
    "    print(f\"A (after sigmoid): {a_out:.4f}\")\n",
    "    \n",
    "    print(f\"\\n=== FINAL RESULTS ===\")\n",
    "    print(f\"Probability of Class 1: {a_out:.4f}\")\n",
    "    print(f\"Prediction: Class {1 if a_out > 0.5 else 0}\")\n",
    "\n",
    "if __name__ == \"__main__\":\n",
    "    forward_propagation()\n"
   ]
  }
 ],
 "metadata": {
  "kernelspec": {
   "display_name": "Python 3",
   "language": "python",
   "name": "python3"
  },
  "language_info": {
   "codemirror_mode": {
    "name": "ipython",
    "version": 3
   },
   "file_extension": ".py",
   "mimetype": "text/x-python",
   "name": "python",
   "nbconvert_exporter": "python",
   "pygments_lexer": "ipython3",
   "version": "3.12.0"
  }
 },
 "nbformat": 4,
 "nbformat_minor": 5
}
