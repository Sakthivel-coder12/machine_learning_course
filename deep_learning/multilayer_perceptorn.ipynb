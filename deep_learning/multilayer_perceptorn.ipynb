{
 "cells": [
  {
   "cell_type": "markdown",
   "id": "1eb47db6",
   "metadata": {},
   "source": [
    "## Single Hidden Layer Feedforward Output"
   ]
  },
  {
   "cell_type": "code",
   "execution_count": 3,
   "id": "6d9f99f4",
   "metadata": {},
   "outputs": [],
   "source": [
    "x = [1,2]\n",
    "w1 = [[0.5,-1.0],[1.5,2.0]]\n",
    "b1 = [0,1]\n",
    "\n",
    "# for i in x:\n",
    "#     for j in w1:\n",
    "\n",
    "# o1 = relu(z1)\n",
    "# w2 = [1.0,-1.0]\n",
    "# b2 = [0]"
   ]
  },
  {
   "cell_type": "code",
   "execution_count": 6,
   "id": "f3aff17d",
   "metadata": {},
   "outputs": [
    {
     "name": "stdout",
     "output_type": "stream",
     "text": [
      "[0.5, -1.0]\n",
      "[1.5, 2.0]\n",
      "[0.5, -1.0, 0.5, -1.0]\n",
      "[1.5, 2.0, 1.5, 2.0]\n"
     ]
    }
   ],
   "source": [
    "for j in x:\n",
    "    for i in w1:\n",
    "        print(i*j)"
   ]
  }
 ],
 "metadata": {
  "kernelspec": {
   "display_name": "Python 3",
   "language": "python",
   "name": "python3"
  },
  "language_info": {
   "codemirror_mode": {
    "name": "ipython",
    "version": 3
   },
   "file_extension": ".py",
   "mimetype": "text/x-python",
   "name": "python",
   "nbconvert_exporter": "python",
   "pygments_lexer": "ipython3",
   "version": "3.12.0"
  }
 },
 "nbformat": 4,
 "nbformat_minor": 5
}
